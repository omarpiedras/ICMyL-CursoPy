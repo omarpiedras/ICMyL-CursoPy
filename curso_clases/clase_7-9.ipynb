{
 "cells": [
  {
   "cell_type": "markdown",
   "metadata": {},
   "source": [
    "# **Curso Python: Clase 07-09**\n",
    "## Bases de datos "
   ]
  },
  {
   "cell_type": "markdown",
   "metadata": {},
   "source": [
    "> Clase 7 y 8"
   ]
  },
  {
   "cell_type": "code",
   "execution_count": 1,
   "metadata": {},
   "outputs": [
    {
     "data": {
      "text/html": [
       "<div>\n",
       "<style scoped>\n",
       "    .dataframe tbody tr th:only-of-type {\n",
       "        vertical-align: middle;\n",
       "    }\n",
       "\n",
       "    .dataframe tbody tr th {\n",
       "        vertical-align: top;\n",
       "    }\n",
       "\n",
       "    .dataframe thead th {\n",
       "        text-align: right;\n",
       "    }\n",
       "</style>\n",
       "<table border=\"1\" class=\"dataframe\">\n",
       "  <thead>\n",
       "    <tr style=\"text-align: right;\">\n",
       "      <th></th>\n",
       "      <th>sample</th>\n",
       "      <th>date</th>\n",
       "      <th>estuary</th>\n",
       "      <th>area</th>\n",
       "      <th>station</th>\n",
       "      <th>layer_depth</th>\n",
       "      <th>season</th>\n",
       "      <th>chlorophy_microg_l</th>\n",
       "      <th>cond_microsiemens_cm</th>\n",
       "      <th>depth_m</th>\n",
       "      <th>...</th>\n",
       "      <th>do_mg_l</th>\n",
       "      <th>sal_psu</th>\n",
       "      <th>sp_cond_microsiemens_cm</th>\n",
       "      <th>turbidity_fnu</th>\n",
       "      <th>temp_c</th>\n",
       "      <th>latitude</th>\n",
       "      <th>longitude</th>\n",
       "      <th>dic_micromol_kg</th>\n",
       "      <th>ta_micromol_kg</th>\n",
       "      <th>dummy_data</th>\n",
       "    </tr>\n",
       "  </thead>\n",
       "  <tbody>\n",
       "    <tr>\n",
       "      <th>0</th>\n",
       "      <td>CDL01S</td>\n",
       "      <td>5/3/2020</td>\n",
       "      <td>Candelaria</td>\n",
       "      <td>River</td>\n",
       "      <td>CDL01</td>\n",
       "      <td>Surface</td>\n",
       "      <td>Dry</td>\n",
       "      <td>0.36</td>\n",
       "      <td>7015.4</td>\n",
       "      <td>0.464</td>\n",
       "      <td>...</td>\n",
       "      <td>7.12</td>\n",
       "      <td>3.56</td>\n",
       "      <td>6547.7</td>\n",
       "      <td>1.47</td>\n",
       "      <td>28.740</td>\n",
       "      <td>18.55736</td>\n",
       "      <td>-91.25012</td>\n",
       "      <td>3915</td>\n",
       "      <td>3863</td>\n",
       "      <td>3685.0</td>\n",
       "    </tr>\n",
       "    <tr>\n",
       "      <th>1</th>\n",
       "      <td>CDL01F</td>\n",
       "      <td>5/3/2020</td>\n",
       "      <td>Candelaria</td>\n",
       "      <td>River</td>\n",
       "      <td>CDL01</td>\n",
       "      <td>Bottom</td>\n",
       "      <td>Dry</td>\n",
       "      <td>4.19</td>\n",
       "      <td>29886.1</td>\n",
       "      <td>7.792</td>\n",
       "      <td>...</td>\n",
       "      <td>4.90</td>\n",
       "      <td>16.97</td>\n",
       "      <td>27751.2</td>\n",
       "      <td>95.33</td>\n",
       "      <td>29.028</td>\n",
       "      <td>18.55722</td>\n",
       "      <td>-91.24990</td>\n",
       "      <td>3698</td>\n",
       "      <td>3685</td>\n",
       "      <td>NaN</td>\n",
       "    </tr>\n",
       "    <tr>\n",
       "      <th>2</th>\n",
       "      <td>CDL02S</td>\n",
       "      <td>5/3/2020</td>\n",
       "      <td>Candelaria</td>\n",
       "      <td>River</td>\n",
       "      <td>CDL02</td>\n",
       "      <td>Surface</td>\n",
       "      <td>Dry</td>\n",
       "      <td>0.92</td>\n",
       "      <td>16691.1</td>\n",
       "      <td>0.453</td>\n",
       "      <td>...</td>\n",
       "      <td>6.99</td>\n",
       "      <td>8.94</td>\n",
       "      <td>15429.1</td>\n",
       "      <td>5.50</td>\n",
       "      <td>29.283</td>\n",
       "      <td>18.61007</td>\n",
       "      <td>-91.24410</td>\n",
       "      <td>3724</td>\n",
       "      <td>3708</td>\n",
       "      <td>3708.0</td>\n",
       "    </tr>\n",
       "    <tr>\n",
       "      <th>3</th>\n",
       "      <td>CDL02F</td>\n",
       "      <td>5/3/2020</td>\n",
       "      <td>Candelaria</td>\n",
       "      <td>River</td>\n",
       "      <td>CDL02</td>\n",
       "      <td>Bottom</td>\n",
       "      <td>Dry</td>\n",
       "      <td>2.23</td>\n",
       "      <td>24847.4</td>\n",
       "      <td>1.261</td>\n",
       "      <td>...</td>\n",
       "      <td>6.52</td>\n",
       "      <td>13.87</td>\n",
       "      <td>23074.0</td>\n",
       "      <td>13.44</td>\n",
       "      <td>29.024</td>\n",
       "      <td>18.61005</td>\n",
       "      <td>-91.24403</td>\n",
       "      <td>3667</td>\n",
       "      <td>3992</td>\n",
       "      <td>3992.0</td>\n",
       "    </tr>\n",
       "    <tr>\n",
       "      <th>4</th>\n",
       "      <td>CDL03S</td>\n",
       "      <td>5/3/2020</td>\n",
       "      <td>Candelaria</td>\n",
       "      <td>River</td>\n",
       "      <td>CDL03</td>\n",
       "      <td>Surface</td>\n",
       "      <td>Dry</td>\n",
       "      <td>0.58</td>\n",
       "      <td>46341.6</td>\n",
       "      <td>0.465</td>\n",
       "      <td>...</td>\n",
       "      <td>6.24</td>\n",
       "      <td>28.06</td>\n",
       "      <td>43670.8</td>\n",
       "      <td>3.60</td>\n",
       "      <td>28.202</td>\n",
       "      <td>18.63166</td>\n",
       "      <td>-91.29359</td>\n",
       "      <td>2928</td>\n",
       "      <td>3023</td>\n",
       "      <td>3023.0</td>\n",
       "    </tr>\n",
       "  </tbody>\n",
       "</table>\n",
       "<p>5 rows × 21 columns</p>\n",
       "</div>"
      ],
      "text/plain": [
       "   sample      date     estuary   area station layer_depth season  \\\n",
       "0  CDL01S  5/3/2020  Candelaria  River   CDL01     Surface    Dry   \n",
       "1  CDL01F  5/3/2020  Candelaria  River   CDL01      Bottom    Dry   \n",
       "2  CDL02S  5/3/2020  Candelaria  River   CDL02     Surface    Dry   \n",
       "3  CDL02F  5/3/2020  Candelaria  River   CDL02      Bottom    Dry   \n",
       "4  CDL03S  5/3/2020  Candelaria  River   CDL03     Surface    Dry   \n",
       "\n",
       "   chlorophy_microg_l  cond_microsiemens_cm  depth_m  ...  do_mg_l  sal_psu  \\\n",
       "0                0.36                7015.4    0.464  ...     7.12     3.56   \n",
       "1                4.19               29886.1    7.792  ...     4.90    16.97   \n",
       "2                0.92               16691.1    0.453  ...     6.99     8.94   \n",
       "3                2.23               24847.4    1.261  ...     6.52    13.87   \n",
       "4                0.58               46341.6    0.465  ...     6.24    28.06   \n",
       "\n",
       "   sp_cond_microsiemens_cm  turbidity_fnu  temp_c  latitude  longitude  \\\n",
       "0                   6547.7           1.47  28.740  18.55736  -91.25012   \n",
       "1                  27751.2          95.33  29.028  18.55722  -91.24990   \n",
       "2                  15429.1           5.50  29.283  18.61007  -91.24410   \n",
       "3                  23074.0          13.44  29.024  18.61005  -91.24403   \n",
       "4                  43670.8           3.60  28.202  18.63166  -91.29359   \n",
       "\n",
       "   dic_micromol_kg  ta_micromol_kg  dummy_data  \n",
       "0             3915            3863      3685.0  \n",
       "1             3698            3685         NaN  \n",
       "2             3724            3708      3708.0  \n",
       "3             3667            3992      3992.0  \n",
       "4             2928            3023      3023.0  \n",
       "\n",
       "[5 rows x 21 columns]"
      ]
     },
     "execution_count": 1,
     "metadata": {},
     "output_type": "execute_result"
    }
   ],
   "source": [
    "import pandas as pd\n",
    "def read_csv_to_dataframe(file_path):\n",
    " try:\n",
    "  df = pd.read_csv(file_path)\n",
    "  return df\n",
    " except Exception as e:\n",
    "  print(f\"Error reading the CSV file: {e}\")\n",
    "  return None\n",
    "read_csv_to_dataframe(\"../folder_datos/Terminos_lagoon_TA_DIC_2023_RawData.csv\").head()"
   ]
  },
  {
   "cell_type": "code",
   "execution_count": 2,
   "metadata": {},
   "outputs": [],
   "source": [
    "terminos_df = read_csv_to_dataframe(\"../folder_datos/Terminos_lagoon_TA_DIC_2023_RawData.csv\")"
   ]
  },
  {
   "cell_type": "code",
   "execution_count": 3,
   "metadata": {},
   "outputs": [
    {
     "name": "stdout",
     "output_type": "stream",
     "text": [
      "<class 'pandas.core.frame.DataFrame'>\n",
      "RangeIndex: 106 entries, 0 to 105\n",
      "Data columns (total 21 columns):\n",
      " #   Column                   Non-Null Count  Dtype  \n",
      "---  ------                   --------------  -----  \n",
      " 0   sample                   106 non-null    object \n",
      " 1   date                     106 non-null    object \n",
      " 2   estuary                  106 non-null    object \n",
      " 3   area                     106 non-null    object \n",
      " 4   station                  106 non-null    object \n",
      " 5   layer_depth              106 non-null    object \n",
      " 6   season                   106 non-null    object \n",
      " 7   chlorophy_microg_l       106 non-null    float64\n",
      " 8   cond_microsiemens_cm     106 non-null    float64\n",
      " 9   depth_m                  106 non-null    float64\n",
      " 10  do_percent_sat           106 non-null    float64\n",
      " 11  do_mg_l                  106 non-null    float64\n",
      " 12  sal_psu                  106 non-null    float64\n",
      " 13  sp_cond_microsiemens_cm  106 non-null    float64\n",
      " 14  turbidity_fnu            106 non-null    float64\n",
      " 15  temp_c                   106 non-null    float64\n",
      " 16  latitude                 106 non-null    float64\n",
      " 17  longitude                106 non-null    float64\n",
      " 18  dic_micromol_kg          106 non-null    int64  \n",
      " 19  ta_micromol_kg           106 non-null    int64  \n",
      " 20  dummy_data               99 non-null     float64\n",
      "dtypes: float64(12), int64(2), object(7)\n",
      "memory usage: 17.5+ KB\n"
     ]
    }
   ],
   "source": [
    "terminos_df.info()"
   ]
  },
  {
   "cell_type": "code",
   "execution_count": 4,
   "metadata": {},
   "outputs": [
    {
     "data": {
      "text/plain": [
       "Index(['sample', 'date', 'estuary', 'area', 'station', 'layer_depth', 'season',\n",
       "       'chlorophy_microg_l', 'cond_microsiemens_cm', 'depth_m',\n",
       "       'do_percent_sat', 'do_mg_l', 'sal_psu', 'sp_cond_microsiemens_cm',\n",
       "       'turbidity_fnu', 'temp_c', 'latitude', 'longitude', 'dic_micromol_kg',\n",
       "       'ta_micromol_kg', 'dummy_data'],\n",
       "      dtype='object')"
      ]
     },
     "execution_count": 4,
     "metadata": {},
     "output_type": "execute_result"
    }
   ],
   "source": [
    "terminos_df.columns"
   ]
  },
  {
   "cell_type": "code",
   "execution_count": 5,
   "metadata": {},
   "outputs": [
    {
     "data": {
      "text/html": [
       "<div>\n",
       "<style scoped>\n",
       "    .dataframe tbody tr th:only-of-type {\n",
       "        vertical-align: middle;\n",
       "    }\n",
       "\n",
       "    .dataframe tbody tr th {\n",
       "        vertical-align: top;\n",
       "    }\n",
       "\n",
       "    .dataframe thead th {\n",
       "        text-align: right;\n",
       "    }\n",
       "</style>\n",
       "<table border=\"1\" class=\"dataframe\">\n",
       "  <thead>\n",
       "    <tr style=\"text-align: right;\">\n",
       "      <th></th>\n",
       "      <th>chlorophy_microg_l</th>\n",
       "      <th>cond_microsiemens_cm</th>\n",
       "      <th>depth_m</th>\n",
       "      <th>do_percent_sat</th>\n",
       "      <th>do_mg_l</th>\n",
       "      <th>sal_psu</th>\n",
       "      <th>sp_cond_microsiemens_cm</th>\n",
       "      <th>turbidity_fnu</th>\n",
       "      <th>temp_c</th>\n",
       "      <th>latitude</th>\n",
       "      <th>longitude</th>\n",
       "      <th>dic_micromol_kg</th>\n",
       "      <th>ta_micromol_kg</th>\n",
       "      <th>dummy_data</th>\n",
       "    </tr>\n",
       "  </thead>\n",
       "  <tbody>\n",
       "    <tr>\n",
       "      <th>count</th>\n",
       "      <td>106.000000</td>\n",
       "      <td>106.000000</td>\n",
       "      <td>106.000000</td>\n",
       "      <td>106.000000</td>\n",
       "      <td>106.000000</td>\n",
       "      <td>106.000000</td>\n",
       "      <td>106.000000</td>\n",
       "      <td>106.000000</td>\n",
       "      <td>106.000000</td>\n",
       "      <td>106.000000</td>\n",
       "      <td>106.000000</td>\n",
       "      <td>106.000000</td>\n",
       "      <td>106.000000</td>\n",
       "      <td>99.000000</td>\n",
       "    </tr>\n",
       "    <tr>\n",
       "      <th>mean</th>\n",
       "      <td>6.545472</td>\n",
       "      <td>27895.183962</td>\n",
       "      <td>1.830160</td>\n",
       "      <td>89.515094</td>\n",
       "      <td>6.474340</td>\n",
       "      <td>17.331981</td>\n",
       "      <td>27126.980189</td>\n",
       "      <td>100.429623</td>\n",
       "      <td>26.758755</td>\n",
       "      <td>18.615912</td>\n",
       "      <td>-91.602783</td>\n",
       "      <td>2797.981132</td>\n",
       "      <td>2912.915094</td>\n",
       "      <td>2902.888889</td>\n",
       "    </tr>\n",
       "    <tr>\n",
       "      <th>std</th>\n",
       "      <td>14.941262</td>\n",
       "      <td>20931.232513</td>\n",
       "      <td>2.038739</td>\n",
       "      <td>29.772291</td>\n",
       "      <td>2.104254</td>\n",
       "      <td>13.578980</td>\n",
       "      <td>20527.530804</td>\n",
       "      <td>290.290113</td>\n",
       "      <td>0.917242</td>\n",
       "      <td>0.112832</td>\n",
       "      <td>0.240359</td>\n",
       "      <td>499.852416</td>\n",
       "      <td>472.694346</td>\n",
       "      <td>473.698989</td>\n",
       "    </tr>\n",
       "    <tr>\n",
       "      <th>min</th>\n",
       "      <td>0.360000</td>\n",
       "      <td>13.800000</td>\n",
       "      <td>0.105000</td>\n",
       "      <td>1.700000</td>\n",
       "      <td>0.120000</td>\n",
       "      <td>0.000000</td>\n",
       "      <td>13.700000</td>\n",
       "      <td>0.880000</td>\n",
       "      <td>24.470000</td>\n",
       "      <td>18.424030</td>\n",
       "      <td>-91.902180</td>\n",
       "      <td>2152.000000</td>\n",
       "      <td>2357.000000</td>\n",
       "      <td>2357.000000</td>\n",
       "    </tr>\n",
       "    <tr>\n",
       "      <th>25%</th>\n",
       "      <td>2.555000</td>\n",
       "      <td>1778.025000</td>\n",
       "      <td>0.428750</td>\n",
       "      <td>84.575000</td>\n",
       "      <td>5.632500</td>\n",
       "      <td>0.857500</td>\n",
       "      <td>1706.875000</td>\n",
       "      <td>5.950000</td>\n",
       "      <td>26.062000</td>\n",
       "      <td>18.535825</td>\n",
       "      <td>-91.809810</td>\n",
       "      <td>2452.250000</td>\n",
       "      <td>2585.500000</td>\n",
       "      <td>2561.500000</td>\n",
       "    </tr>\n",
       "    <tr>\n",
       "      <th>50%</th>\n",
       "      <td>3.705000</td>\n",
       "      <td>33202.600000</td>\n",
       "      <td>0.638500</td>\n",
       "      <td>97.100000</td>\n",
       "      <td>6.940000</td>\n",
       "      <td>19.760000</td>\n",
       "      <td>31803.250000</td>\n",
       "      <td>19.090000</td>\n",
       "      <td>26.806000</td>\n",
       "      <td>18.610050</td>\n",
       "      <td>-91.786895</td>\n",
       "      <td>2646.500000</td>\n",
       "      <td>2823.000000</td>\n",
       "      <td>2814.000000</td>\n",
       "    </tr>\n",
       "    <tr>\n",
       "      <th>75%</th>\n",
       "      <td>5.925000</td>\n",
       "      <td>47046.650000</td>\n",
       "      <td>2.883250</td>\n",
       "      <td>105.300000</td>\n",
       "      <td>7.722500</td>\n",
       "      <td>30.297500</td>\n",
       "      <td>46668.975000</td>\n",
       "      <td>54.762500</td>\n",
       "      <td>27.153250</td>\n",
       "      <td>18.698798</td>\n",
       "      <td>-91.367565</td>\n",
       "      <td>2963.250000</td>\n",
       "      <td>3053.750000</td>\n",
       "      <td>3029.000000</td>\n",
       "    </tr>\n",
       "    <tr>\n",
       "      <th>max</th>\n",
       "      <td>150.900000</td>\n",
       "      <td>59988.600000</td>\n",
       "      <td>8.558000</td>\n",
       "      <td>174.100000</td>\n",
       "      <td>11.660000</td>\n",
       "      <td>38.780000</td>\n",
       "      <td>58105.000000</td>\n",
       "      <td>2422.930000</td>\n",
       "      <td>29.283000</td>\n",
       "      <td>18.821780</td>\n",
       "      <td>-91.244000</td>\n",
       "      <td>4324.000000</td>\n",
       "      <td>4307.000000</td>\n",
       "      <td>4307.000000</td>\n",
       "    </tr>\n",
       "  </tbody>\n",
       "</table>\n",
       "</div>"
      ],
      "text/plain": [
       "       chlorophy_microg_l  cond_microsiemens_cm     depth_m  do_percent_sat  \\\n",
       "count          106.000000            106.000000  106.000000      106.000000   \n",
       "mean             6.545472          27895.183962    1.830160       89.515094   \n",
       "std             14.941262          20931.232513    2.038739       29.772291   \n",
       "min              0.360000             13.800000    0.105000        1.700000   \n",
       "25%              2.555000           1778.025000    0.428750       84.575000   \n",
       "50%              3.705000          33202.600000    0.638500       97.100000   \n",
       "75%              5.925000          47046.650000    2.883250      105.300000   \n",
       "max            150.900000          59988.600000    8.558000      174.100000   \n",
       "\n",
       "          do_mg_l     sal_psu  sp_cond_microsiemens_cm  turbidity_fnu  \\\n",
       "count  106.000000  106.000000               106.000000     106.000000   \n",
       "mean     6.474340   17.331981             27126.980189     100.429623   \n",
       "std      2.104254   13.578980             20527.530804     290.290113   \n",
       "min      0.120000    0.000000                13.700000       0.880000   \n",
       "25%      5.632500    0.857500              1706.875000       5.950000   \n",
       "50%      6.940000   19.760000             31803.250000      19.090000   \n",
       "75%      7.722500   30.297500             46668.975000      54.762500   \n",
       "max     11.660000   38.780000             58105.000000    2422.930000   \n",
       "\n",
       "           temp_c    latitude   longitude  dic_micromol_kg  ta_micromol_kg  \\\n",
       "count  106.000000  106.000000  106.000000       106.000000      106.000000   \n",
       "mean    26.758755   18.615912  -91.602783      2797.981132     2912.915094   \n",
       "std      0.917242    0.112832    0.240359       499.852416      472.694346   \n",
       "min     24.470000   18.424030  -91.902180      2152.000000     2357.000000   \n",
       "25%     26.062000   18.535825  -91.809810      2452.250000     2585.500000   \n",
       "50%     26.806000   18.610050  -91.786895      2646.500000     2823.000000   \n",
       "75%     27.153250   18.698798  -91.367565      2963.250000     3053.750000   \n",
       "max     29.283000   18.821780  -91.244000      4324.000000     4307.000000   \n",
       "\n",
       "        dummy_data  \n",
       "count    99.000000  \n",
       "mean   2902.888889  \n",
       "std     473.698989  \n",
       "min    2357.000000  \n",
       "25%    2561.500000  \n",
       "50%    2814.000000  \n",
       "75%    3029.000000  \n",
       "max    4307.000000  "
      ]
     },
     "execution_count": 5,
     "metadata": {},
     "output_type": "execute_result"
    }
   ],
   "source": [
    "terminos_df.describe()"
   ]
  },
  {
   "attachments": {},
   "cell_type": "markdown",
   "metadata": {},
   "source": [
    "#  Importing and explore environmental data"
   ]
  },
  {
   "cell_type": "markdown",
   "metadata": {},
   "source": [
    "> Clase 9"
   ]
  },
  {
   "cell_type": "code",
   "execution_count": 6,
   "metadata": {},
   "outputs": [],
   "source": [
    "def import_csv(file):\n",
    "    # Read the file into a DataFrame: df\n",
    "    import pandas as pd\n",
    "    return pd.read_csv(file)"
   ]
  },
  {
   "cell_type": "code",
   "execution_count": 18,
   "metadata": {},
   "outputs": [],
   "source": [
    "# Path to the file to be imported\n",
    "path = \"../folder_datos/Terminos_lagoon_TA_DIC_2023_RawData.csv\"\n",
    "\n",
    "# Import the file\n",
    "CO2Data_df = import_csv(path)"
   ]
  },
  {
   "attachments": {},
   "cell_type": "markdown",
   "metadata": {},
   "source": [
    "## Exploring  DataFrame\n"
   ]
  },
  {
   "cell_type": "code",
   "execution_count": 20,
   "metadata": {},
   "outputs": [
    {
     "name": "stdout",
     "output_type": "stream",
     "text": [
      "(106, 21)\n"
     ]
    }
   ],
   "source": [
    "# Print the number of rows and columns in the DataFrame\n",
    "print(CO2Data_df.shape)"
   ]
  },
  {
   "cell_type": "code",
   "execution_count": 21,
   "metadata": {},
   "outputs": [
    {
     "name": "stdout",
     "output_type": "stream",
     "text": [
      "Index(['sample', 'date', 'estuary', 'area', 'station', 'layer_depth', 'season',\n",
      "       'chlorophy_microg_l', 'cond_microsiemens_cm', 'depth_m',\n",
      "       'do_percent_sat', 'do_mg_l', 'sal_psu', 'sp_cond_microsiemens_cm',\n",
      "       'turbidity_fnu', 'temp_c', 'latitude', 'longitude', 'dic_micromol_kg',\n",
      "       'ta_micromol_kg', 'dummy_data'],\n",
      "      dtype='object')\n"
     ]
    }
   ],
   "source": [
    "# Print the head of the DataFrame\n",
    "print(CO2Data_df.columns)"
   ]
  },
  {
   "attachments": {},
   "cell_type": "markdown",
   "metadata": {},
   "source": [
    "- Print information about a DataFrame including the index dtype and columns, non-null values and memory usage"
   ]
  },
  {
   "cell_type": "code",
   "execution_count": 22,
   "metadata": {},
   "outputs": [
    {
     "name": "stdout",
     "output_type": "stream",
     "text": [
      "<class 'pandas.core.frame.DataFrame'>\n",
      "RangeIndex: 106 entries, 0 to 105\n",
      "Data columns (total 21 columns):\n",
      " #   Column                   Non-Null Count  Dtype  \n",
      "---  ------                   --------------  -----  \n",
      " 0   sample                   106 non-null    object \n",
      " 1   date                     106 non-null    object \n",
      " 2   estuary                  106 non-null    object \n",
      " 3   area                     106 non-null    object \n",
      " 4   station                  106 non-null    object \n",
      " 5   layer_depth              106 non-null    object \n",
      " 6   season                   106 non-null    object \n",
      " 7   chlorophy_microg_l       106 non-null    float64\n",
      " 8   cond_microsiemens_cm     106 non-null    float64\n",
      " 9   depth_m                  106 non-null    float64\n",
      " 10  do_percent_sat           106 non-null    float64\n",
      " 11  do_mg_l                  106 non-null    float64\n",
      " 12  sal_psu                  106 non-null    float64\n",
      " 13  sp_cond_microsiemens_cm  106 non-null    float64\n",
      " 14  turbidity_fnu            106 non-null    float64\n",
      " 15  temp_c                   106 non-null    float64\n",
      " 16  latitude                 106 non-null    float64\n",
      " 17  longitude                106 non-null    float64\n",
      " 18  dic_micromol_kg          106 non-null    int64  \n",
      " 19  ta_micromol_kg           106 non-null    int64  \n",
      " 20  dummy_data               99 non-null     float64\n",
      "dtypes: float64(12), int64(2), object(7)\n",
      "memory usage: 17.5+ KB\n",
      "None\n"
     ]
    }
   ],
   "source": [
    "# Print information about the DataFrame\n",
    "print(CO2Data_df.info())"
   ]
  },
  {
   "cell_type": "code",
   "execution_count": 23,
   "metadata": {},
   "outputs": [
    {
     "name": "stdout",
     "output_type": "stream",
     "text": [
      "       chlorophy_microg_l  cond_microsiemens_cm     depth_m  do_percent_sat  \\\n",
      "count          106.000000            106.000000  106.000000      106.000000   \n",
      "mean             6.545472          27895.183962    1.830160       89.515094   \n",
      "std             14.941262          20931.232513    2.038739       29.772291   \n",
      "min              0.360000             13.800000    0.105000        1.700000   \n",
      "25%              2.555000           1778.025000    0.428750       84.575000   \n",
      "50%              3.705000          33202.600000    0.638500       97.100000   \n",
      "75%              5.925000          47046.650000    2.883250      105.300000   \n",
      "max            150.900000          59988.600000    8.558000      174.100000   \n",
      "\n",
      "          do_mg_l     sal_psu  sp_cond_microsiemens_cm  turbidity_fnu  \\\n",
      "count  106.000000  106.000000               106.000000     106.000000   \n",
      "mean     6.474340   17.331981             27126.980189     100.429623   \n",
      "std      2.104254   13.578980             20527.530804     290.290113   \n",
      "min      0.120000    0.000000                13.700000       0.880000   \n",
      "25%      5.632500    0.857500              1706.875000       5.950000   \n",
      "50%      6.940000   19.760000             31803.250000      19.090000   \n",
      "75%      7.722500   30.297500             46668.975000      54.762500   \n",
      "max     11.660000   38.780000             58105.000000    2422.930000   \n",
      "\n",
      "           temp_c    latitude   longitude  dic_micromol_kg  ta_micromol_kg  \\\n",
      "count  106.000000  106.000000  106.000000       106.000000      106.000000   \n",
      "mean    26.758755   18.615912  -91.602783      2797.981132     2912.915094   \n",
      "std      0.917242    0.112832    0.240359       499.852416      472.694346   \n",
      "min     24.470000   18.424030  -91.902180      2152.000000     2357.000000   \n",
      "25%     26.062000   18.535825  -91.809810      2452.250000     2585.500000   \n",
      "50%     26.806000   18.610050  -91.786895      2646.500000     2823.000000   \n",
      "75%     27.153250   18.698798  -91.367565      2963.250000     3053.750000   \n",
      "max     29.283000   18.821780  -91.244000      4324.000000     4307.000000   \n",
      "\n",
      "        dummy_data  \n",
      "count    99.000000  \n",
      "mean   2902.888889  \n",
      "std     473.698989  \n",
      "min    2357.000000  \n",
      "25%    2561.500000  \n",
      "50%    2814.000000  \n",
      "75%    3029.000000  \n",
      "max    4307.000000  \n"
     ]
    }
   ],
   "source": [
    "# Print descriptive statistics\n",
    "print(CO2Data_df.describe())"
   ]
  },
  {
   "attachments": {},
   "cell_type": "markdown",
   "metadata": {},
   "source": [
    "-  Group the data by a categorical column, and calculate the mean and standard deviation of a numerical column"
   ]
  },
  {
   "cell_type": "code",
   "execution_count": 26,
   "metadata": {},
   "outputs": [
    {
     "data": {
      "text/plain": [
       "0    3863\n",
       "1    3685\n",
       "2    3708\n",
       "3    3992\n",
       "4    3023\n",
       "Name: ta_micromol_kg, dtype: int64"
      ]
     },
     "execution_count": 26,
     "metadata": {},
     "output_type": "execute_result"
    }
   ],
   "source": [
    "ta = CO2Data_df['ta_micromol_kg']\n",
    "ta.head()"
   ]
  },
  {
   "cell_type": "code",
   "execution_count": 27,
   "metadata": {},
   "outputs": [
    {
     "data": {
      "text/plain": [
       "0    3915\n",
       "1    3698\n",
       "2    3724\n",
       "3    3667\n",
       "4    2928\n",
       "Name: dic_micromol_kg, dtype: int64"
      ]
     },
     "execution_count": 27,
     "metadata": {},
     "output_type": "execute_result"
    }
   ],
   "source": [
    "dic = CO2Data_df['dic_micromol_kg']\n",
    "dic.head()"
   ]
  },
  {
   "cell_type": "code",
   "execution_count": 28,
   "metadata": {},
   "outputs": [
    {
     "data": {
      "text/plain": [
       "<Axes: >"
      ]
     },
     "execution_count": 28,
     "metadata": {},
     "output_type": "execute_result"
    },
    {
     "data": {
      "image/png": "[encoded data removed]",
      "text/plain": [
       "<Figure size 640x480 with 1 Axes>"
      ]
     },
     "metadata": {},
     "output_type": "display_data"
    }
   ],
   "source": [
    "dic.plot()"
   ]
  },
  {
   "cell_type": "code",
   "execution_count": 29,
   "metadata": {},
   "outputs": [
    {
     "data": {
      "text/plain": [
       "np.float64(2797.9811320754716)"
      ]
     },
     "execution_count": 29,
     "metadata": {},
     "output_type": "execute_result"
    }
   ],
   "source": [
    "dic.mean()"
   ]
  },
  {
   "cell_type": "code",
   "execution_count": 34,
   "metadata": {},
   "outputs": [
    {
     "data": {
      "text/plain": [
       "<Axes: >"
      ]
     },
     "execution_count": 34,
     "metadata": {},
     "output_type": "execute_result"
    },
    {
     "data": {
      "image/png": "[encoded data removed]",
      "text/plain": [
       "<Figure size 640x480 with 1 Axes>"
      ]
     },
     "metadata": {},
     "output_type": "display_data"
    }
   ],
   "source": [
    "dic_ta_data = CO2Data_df[['ta_micromol_kg','dic_micromol_kg']]\n",
    "dic_ta_data.head(3)\n",
    "dic_ta_data.plot()"
   ]
  },
  {
   "cell_type": "code",
   "execution_count": 36,
   "metadata": {},
   "outputs": [
    {
     "data": {
      "text/html": [
       "<div>\n",
       "<style scoped>\n",
       "    .dataframe tbody tr th:only-of-type {\n",
       "        vertical-align: middle;\n",
       "    }\n",
       "\n",
       "    .dataframe tbody tr th {\n",
       "        vertical-align: top;\n",
       "    }\n",
       "\n",
       "    .dataframe thead th {\n",
       "        text-align: right;\n",
       "    }\n",
       "</style>\n",
       "<table border=\"1\" class=\"dataframe\">\n",
       "  <thead>\n",
       "    <tr style=\"text-align: right;\">\n",
       "      <th></th>\n",
       "      <th>sample</th>\n",
       "      <th>date</th>\n",
       "      <th>estuary</th>\n",
       "      <th>area</th>\n",
       "      <th>station</th>\n",
       "      <th>layer_depth</th>\n",
       "      <th>season</th>\n",
       "      <th>chlorophy_microg_l</th>\n",
       "      <th>cond_microsiemens_cm</th>\n",
       "      <th>depth_m</th>\n",
       "      <th>...</th>\n",
       "      <th>do_mg_l</th>\n",
       "      <th>sal_psu</th>\n",
       "      <th>sp_cond_microsiemens_cm</th>\n",
       "      <th>turbidity_fnu</th>\n",
       "      <th>temp_c</th>\n",
       "      <th>latitude</th>\n",
       "      <th>longitude</th>\n",
       "      <th>dic_micromol_kg</th>\n",
       "      <th>ta_micromol_kg</th>\n",
       "      <th>dummy_data</th>\n",
       "    </tr>\n",
       "  </thead>\n",
       "  <tbody>\n",
       "    <tr>\n",
       "      <th>36</th>\n",
       "      <td>CDL01S</td>\n",
       "      <td>26/11/2020</td>\n",
       "      <td>Candelaria</td>\n",
       "      <td>River</td>\n",
       "      <td>CDL01</td>\n",
       "      <td>Surface</td>\n",
       "      <td>Rainy</td>\n",
       "      <td>2.52</td>\n",
       "      <td>760.1</td>\n",
       "      <td>0.558</td>\n",
       "      <td>...</td>\n",
       "      <td>5.43</td>\n",
       "      <td>0.36</td>\n",
       "      <td>736.7</td>\n",
       "      <td>2.37</td>\n",
       "      <td>26.670</td>\n",
       "      <td>18.55681</td>\n",
       "      <td>-91.25012</td>\n",
       "      <td>2958</td>\n",
       "      <td>2847</td>\n",
       "      <td>2847.0</td>\n",
       "    </tr>\n",
       "    <tr>\n",
       "      <th>37</th>\n",
       "      <td>CDL01F</td>\n",
       "      <td>26/11/2020</td>\n",
       "      <td>Candelaria</td>\n",
       "      <td>River</td>\n",
       "      <td>CDL01</td>\n",
       "      <td>Bottom</td>\n",
       "      <td>Rainy</td>\n",
       "      <td>2.49</td>\n",
       "      <td>763.6</td>\n",
       "      <td>3.302</td>\n",
       "      <td>...</td>\n",
       "      <td>5.30</td>\n",
       "      <td>0.36</td>\n",
       "      <td>740.7</td>\n",
       "      <td>2.72</td>\n",
       "      <td>26.618</td>\n",
       "      <td>18.55674</td>\n",
       "      <td>-91.25021</td>\n",
       "      <td>2965</td>\n",
       "      <td>2841</td>\n",
       "      <td>2841.0</td>\n",
       "    </tr>\n",
       "    <tr>\n",
       "      <th>38</th>\n",
       "      <td>CDL02S</td>\n",
       "      <td>26/11/2020</td>\n",
       "      <td>Candelaria</td>\n",
       "      <td>River</td>\n",
       "      <td>CDL02</td>\n",
       "      <td>Surface</td>\n",
       "      <td>Rainy</td>\n",
       "      <td>2.31</td>\n",
       "      <td>777.7</td>\n",
       "      <td>0.556</td>\n",
       "      <td>...</td>\n",
       "      <td>5.39</td>\n",
       "      <td>0.36</td>\n",
       "      <td>751.9</td>\n",
       "      <td>3.29</td>\n",
       "      <td>26.801</td>\n",
       "      <td>18.60981</td>\n",
       "      <td>-91.24462</td>\n",
       "      <td>2965</td>\n",
       "      <td>2860</td>\n",
       "      <td>2860.0</td>\n",
       "    </tr>\n",
       "  </tbody>\n",
       "</table>\n",
       "<p>3 rows × 21 columns</p>\n",
       "</div>"
      ],
      "text/plain": [
       "    sample        date     estuary   area station layer_depth season  \\\n",
       "36  CDL01S  26/11/2020  Candelaria  River   CDL01     Surface  Rainy   \n",
       "37  CDL01F  26/11/2020  Candelaria  River   CDL01      Bottom  Rainy   \n",
       "38  CDL02S  26/11/2020  Candelaria  River   CDL02     Surface  Rainy   \n",
       "\n",
       "    chlorophy_microg_l  cond_microsiemens_cm  depth_m  ...  do_mg_l  sal_psu  \\\n",
       "36                2.52                 760.1    0.558  ...     5.43     0.36   \n",
       "37                2.49                 763.6    3.302  ...     5.30     0.36   \n",
       "38                2.31                 777.7    0.556  ...     5.39     0.36   \n",
       "\n",
       "    sp_cond_microsiemens_cm  turbidity_fnu  temp_c  latitude  longitude  \\\n",
       "36                    736.7           2.37  26.670  18.55681  -91.25012   \n",
       "37                    740.7           2.72  26.618  18.55674  -91.25021   \n",
       "38                    751.9           3.29  26.801  18.60981  -91.24462   \n",
       "\n",
       "    dic_micromol_kg  ta_micromol_kg  dummy_data  \n",
       "36             2958            2847      2847.0  \n",
       "37             2965            2841      2841.0  \n",
       "38             2965            2860      2860.0  \n",
       "\n",
       "[3 rows x 21 columns]"
      ]
     },
     "execution_count": 36,
     "metadata": {},
     "output_type": "execute_result"
    }
   ],
   "source": [
    "CO2Data_df = CO2Data_df[CO2Data_df['season']== 'Rainy']\n",
    "CO2Data_df.head(3)"
   ]
  },
  {
   "cell_type": "code",
   "execution_count": 37,
   "metadata": {},
   "outputs": [
    {
     "data": {
      "text/html": [
       "<div>\n",
       "<style scoped>\n",
       "    .dataframe tbody tr th:only-of-type {\n",
       "        vertical-align: middle;\n",
       "    }\n",
       "\n",
       "    .dataframe tbody tr th {\n",
       "        vertical-align: top;\n",
       "    }\n",
       "\n",
       "    .dataframe thead th {\n",
       "        text-align: right;\n",
       "    }\n",
       "</style>\n",
       "<table border=\"1\" class=\"dataframe\">\n",
       "  <thead>\n",
       "    <tr style=\"text-align: right;\">\n",
       "      <th></th>\n",
       "      <th>sample</th>\n",
       "      <th>date</th>\n",
       "      <th>estuary</th>\n",
       "      <th>area</th>\n",
       "      <th>station</th>\n",
       "      <th>layer_depth</th>\n",
       "      <th>season</th>\n",
       "      <th>chlorophy_microg_l</th>\n",
       "      <th>cond_microsiemens_cm</th>\n",
       "      <th>depth_m</th>\n",
       "      <th>...</th>\n",
       "      <th>do_mg_l</th>\n",
       "      <th>sal_psu</th>\n",
       "      <th>sp_cond_microsiemens_cm</th>\n",
       "      <th>turbidity_fnu</th>\n",
       "      <th>temp_c</th>\n",
       "      <th>latitude</th>\n",
       "      <th>longitude</th>\n",
       "      <th>dic_micromol_kg</th>\n",
       "      <th>ta_micromol_kg</th>\n",
       "      <th>dummy_data</th>\n",
       "    </tr>\n",
       "  </thead>\n",
       "  <tbody>\n",
       "    <tr>\n",
       "      <th>52</th>\n",
       "      <td>PLZ01S</td>\n",
       "      <td>25/11/2020</td>\n",
       "      <td>Palizada</td>\n",
       "      <td>River</td>\n",
       "      <td>PLZ01</td>\n",
       "      <td>Surface</td>\n",
       "      <td>Rainy</td>\n",
       "      <td>2.31</td>\n",
       "      <td>381.1</td>\n",
       "      <td>0.307</td>\n",
       "      <td>...</td>\n",
       "      <td>2.70</td>\n",
       "      <td>0.17</td>\n",
       "      <td>368.4</td>\n",
       "      <td>28.44</td>\n",
       "      <td>26.811</td>\n",
       "      <td>18.42431</td>\n",
       "      <td>-91.83989</td>\n",
       "      <td>2840</td>\n",
       "      <td>2581</td>\n",
       "      <td>2581.0</td>\n",
       "    </tr>\n",
       "    <tr>\n",
       "      <th>53</th>\n",
       "      <td>PLZ01F</td>\n",
       "      <td>25/11/2020</td>\n",
       "      <td>Palizada</td>\n",
       "      <td>River</td>\n",
       "      <td>PLZ01</td>\n",
       "      <td>Bottom</td>\n",
       "      <td>Rainy</td>\n",
       "      <td>2.43</td>\n",
       "      <td>380.6</td>\n",
       "      <td>6.903</td>\n",
       "      <td>...</td>\n",
       "      <td>2.56</td>\n",
       "      <td>0.17</td>\n",
       "      <td>367.9</td>\n",
       "      <td>77.25</td>\n",
       "      <td>26.799</td>\n",
       "      <td>18.42429</td>\n",
       "      <td>-91.83987</td>\n",
       "      <td>2853</td>\n",
       "      <td>2599</td>\n",
       "      <td>2599.0</td>\n",
       "    </tr>\n",
       "    <tr>\n",
       "      <th>54</th>\n",
       "      <td>PLZ02S</td>\n",
       "      <td>25/11/2020</td>\n",
       "      <td>Palizada</td>\n",
       "      <td>River</td>\n",
       "      <td>PLZ02</td>\n",
       "      <td>Surface</td>\n",
       "      <td>Rainy</td>\n",
       "      <td>2.73</td>\n",
       "      <td>403.7</td>\n",
       "      <td>0.611</td>\n",
       "      <td>...</td>\n",
       "      <td>2.96</td>\n",
       "      <td>0.19</td>\n",
       "      <td>389.7</td>\n",
       "      <td>18.99</td>\n",
       "      <td>26.885</td>\n",
       "      <td>18.45358</td>\n",
       "      <td>-91.80859</td>\n",
       "      <td>2814</td>\n",
       "      <td>2619</td>\n",
       "      <td>2619.0</td>\n",
       "    </tr>\n",
       "  </tbody>\n",
       "</table>\n",
       "<p>3 rows × 21 columns</p>\n",
       "</div>"
      ],
      "text/plain": [
       "    sample        date   estuary   area station layer_depth season  \\\n",
       "52  PLZ01S  25/11/2020  Palizada  River   PLZ01     Surface  Rainy   \n",
       "53  PLZ01F  25/11/2020  Palizada  River   PLZ01      Bottom  Rainy   \n",
       "54  PLZ02S  25/11/2020  Palizada  River   PLZ02     Surface  Rainy   \n",
       "\n",
       "    chlorophy_microg_l  cond_microsiemens_cm  depth_m  ...  do_mg_l  sal_psu  \\\n",
       "52                2.31                 381.1    0.307  ...     2.70     0.17   \n",
       "53                2.43                 380.6    6.903  ...     2.56     0.17   \n",
       "54                2.73                 403.7    0.611  ...     2.96     0.19   \n",
       "\n",
       "    sp_cond_microsiemens_cm  turbidity_fnu  temp_c  latitude  longitude  \\\n",
       "52                    368.4          28.44  26.811  18.42431  -91.83989   \n",
       "53                    367.9          77.25  26.799  18.42429  -91.83987   \n",
       "54                    389.7          18.99  26.885  18.45358  -91.80859   \n",
       "\n",
       "    dic_micromol_kg  ta_micromol_kg  dummy_data  \n",
       "52             2840            2581      2581.0  \n",
       "53             2853            2599      2599.0  \n",
       "54             2814            2619      2619.0  \n",
       "\n",
       "[3 rows x 21 columns]"
      ]
     },
     "execution_count": 37,
     "metadata": {},
     "output_type": "execute_result"
    }
   ],
   "source": [
    "CO2Data_df_non_candelaria = CO2Data_df[CO2Data_df[\"estuary\"] != \"Candelaria\"]\n",
    "CO2Data_df_non_candelaria.head(3)"
   ]
  },
  {
   "cell_type": "code",
   "execution_count": 40,
   "metadata": {},
   "outputs": [
    {
     "data": {
      "text/html": [
       "<div>\n",
       "<style scoped>\n",
       "    .dataframe tbody tr th:only-of-type {\n",
       "        vertical-align: middle;\n",
       "    }\n",
       "\n",
       "    .dataframe tbody tr th {\n",
       "        vertical-align: top;\n",
       "    }\n",
       "\n",
       "    .dataframe thead th {\n",
       "        text-align: right;\n",
       "    }\n",
       "</style>\n",
       "<table border=\"1\" class=\"dataframe\">\n",
       "  <thead>\n",
       "    <tr style=\"text-align: right;\">\n",
       "      <th></th>\n",
       "      <th>sample</th>\n",
       "      <th>date</th>\n",
       "      <th>estuary</th>\n",
       "      <th>area</th>\n",
       "      <th>station</th>\n",
       "      <th>layer_depth</th>\n",
       "      <th>season</th>\n",
       "      <th>chlorophy_microg_l</th>\n",
       "      <th>cond_microsiemens_cm</th>\n",
       "      <th>depth_m</th>\n",
       "      <th>...</th>\n",
       "      <th>do_mg_l</th>\n",
       "      <th>sal_psu</th>\n",
       "      <th>sp_cond_microsiemens_cm</th>\n",
       "      <th>turbidity_fnu</th>\n",
       "      <th>temp_c</th>\n",
       "      <th>latitude</th>\n",
       "      <th>longitude</th>\n",
       "      <th>dic_micromol_kg</th>\n",
       "      <th>ta_micromol_kg</th>\n",
       "      <th>dummy_data</th>\n",
       "    </tr>\n",
       "  </thead>\n",
       "  <tbody>\n",
       "    <tr>\n",
       "      <th>40</th>\n",
       "      <td>CDL03S</td>\n",
       "      <td>26/11/2020</td>\n",
       "      <td>Candelaria</td>\n",
       "      <td>River</td>\n",
       "      <td>CDL03</td>\n",
       "      <td>Surface</td>\n",
       "      <td>Rainy</td>\n",
       "      <td>6.87</td>\n",
       "      <td>13814.4</td>\n",
       "      <td>0.256</td>\n",
       "      <td>...</td>\n",
       "      <td>5.45</td>\n",
       "      <td>7.56</td>\n",
       "      <td>13182.4</td>\n",
       "      <td>9.64</td>\n",
       "      <td>27.510</td>\n",
       "      <td>18.62985</td>\n",
       "      <td>-91.29398</td>\n",
       "      <td>2528</td>\n",
       "      <td>2501</td>\n",
       "      <td>2501.0</td>\n",
       "    </tr>\n",
       "    <tr>\n",
       "      <th>41</th>\n",
       "      <td>CDL04S</td>\n",
       "      <td>26/11/2020</td>\n",
       "      <td>Candelaria</td>\n",
       "      <td>Plume</td>\n",
       "      <td>CDL04</td>\n",
       "      <td>Surface</td>\n",
       "      <td>Rainy</td>\n",
       "      <td>4.36</td>\n",
       "      <td>15360.9</td>\n",
       "      <td>0.468</td>\n",
       "      <td>...</td>\n",
       "      <td>8.12</td>\n",
       "      <td>8.43</td>\n",
       "      <td>14584.0</td>\n",
       "      <td>3.53</td>\n",
       "      <td>27.789</td>\n",
       "      <td>18.68223</td>\n",
       "      <td>-91.34940</td>\n",
       "      <td>2357</td>\n",
       "      <td>2438</td>\n",
       "      <td>2438.0</td>\n",
       "    </tr>\n",
       "    <tr>\n",
       "      <th>46</th>\n",
       "      <td>CDL07S</td>\n",
       "      <td>26/11/2020</td>\n",
       "      <td>Candelaria</td>\n",
       "      <td>Coast</td>\n",
       "      <td>CDL07</td>\n",
       "      <td>Surface</td>\n",
       "      <td>Rainy</td>\n",
       "      <td>3.09</td>\n",
       "      <td>22135.8</td>\n",
       "      <td>0.463</td>\n",
       "      <td>...</td>\n",
       "      <td>7.66</td>\n",
       "      <td>12.54</td>\n",
       "      <td>21014.4</td>\n",
       "      <td>5.84</td>\n",
       "      <td>27.794</td>\n",
       "      <td>18.75769</td>\n",
       "      <td>-91.42616</td>\n",
       "      <td>2361</td>\n",
       "      <td>2415</td>\n",
       "      <td>2415.0</td>\n",
       "    </tr>\n",
       "  </tbody>\n",
       "</table>\n",
       "<p>3 rows × 21 columns</p>\n",
       "</div>"
      ],
      "text/plain": [
       "    sample        date     estuary   area station layer_depth season  \\\n",
       "40  CDL03S  26/11/2020  Candelaria  River   CDL03     Surface  Rainy   \n",
       "41  CDL04S  26/11/2020  Candelaria  Plume   CDL04     Surface  Rainy   \n",
       "46  CDL07S  26/11/2020  Candelaria  Coast   CDL07     Surface  Rainy   \n",
       "\n",
       "    chlorophy_microg_l  cond_microsiemens_cm  depth_m  ...  do_mg_l  sal_psu  \\\n",
       "40                6.87               13814.4    0.256  ...     5.45     7.56   \n",
       "41                4.36               15360.9    0.468  ...     8.12     8.43   \n",
       "46                3.09               22135.8    0.463  ...     7.66    12.54   \n",
       "\n",
       "    sp_cond_microsiemens_cm  turbidity_fnu  temp_c  latitude  longitude  \\\n",
       "40                  13182.4           9.64  27.510  18.62985  -91.29398   \n",
       "41                  14584.0           3.53  27.789  18.68223  -91.34940   \n",
       "46                  21014.4           5.84  27.794  18.75769  -91.42616   \n",
       "\n",
       "    dic_micromol_kg  ta_micromol_kg  dummy_data  \n",
       "40             2528            2501      2501.0  \n",
       "41             2357            2438      2438.0  \n",
       "46             2361            2415      2415.0  \n",
       "\n",
       "[3 rows x 21 columns]"
      ]
     },
     "execution_count": 40,
     "metadata": {},
     "output_type": "execute_result"
    }
   ],
   "source": [
    "CO2Data_df_surface= CO2Data_df[CO2Data_df[\"depth_m\"] <= 0.5]\n",
    "CO2Data_df_surface.head(3)"
   ]
  },
  {
   "attachments": {},
   "cell_type": "markdown",
   "metadata": {},
   "source": [
    "# Missing values in each column."
   ]
  },
  {
   "cell_type": "code",
   "execution_count": 41,
   "metadata": {},
   "outputs": [
    {
     "name": "stdout",
     "output_type": "stream",
     "text": [
      "sample                     0\n",
      "date                       0\n",
      "estuary                    0\n",
      "area                       0\n",
      "station                    0\n",
      "layer_depth                0\n",
      "season                     0\n",
      "chlorophy_microg_l         0\n",
      "cond_microsiemens_cm       0\n",
      "depth_m                    0\n",
      "do_percent_sat             0\n",
      "do_mg_l                    0\n",
      "sal_psu                    0\n",
      "sp_cond_microsiemens_cm    0\n",
      "turbidity_fnu              0\n",
      "temp_c                     0\n",
      "latitude                   0\n",
      "longitude                  0\n",
      "dic_micromol_kg            0\n",
      "ta_micromol_kg             0\n",
      "dummy_data                 2\n",
      "dtype: int64\n"
     ]
    }
   ],
   "source": [
    "# Use the Pandas isnull() function to identify the number of missing values in each column.\n",
    "print(CO2Data_df.isnull().sum())"
   ]
  },
  {
   "attachments": {},
   "cell_type": "markdown",
   "metadata": {},
   "source": [
    "### Method to use for filling holes in reindexed Series:\n",
    "\n",
    "- ffill: propagate last valid observation forward to next valid.\n",
    "\n",
    "- bfill: use next valid observation to fill gap."
   ]
  },
  {
   "cell_type": "code",
   "execution_count": 42,
   "metadata": {},
   "outputs": [
    {
     "name": "stderr",
     "output_type": "stream",
     "text": [
      "C:\\Users\\Omar\\AppData\\Local\\Temp\\ipykernel_51796\\4043540872.py:5: FutureWarning: DataFrame.fillna with 'method' is deprecated and will raise in a future version. Use obj.ffill() or obj.bfill() instead.\n",
      "  CO2Data_fill = CO2Data_fill.fillna(method=\"ffill\")\n"
     ]
    }
   ],
   "source": [
    "# Create new data frame \n",
    "CO2Data_fill = CO2Data_df.copy()\n",
    "\n",
    "# Use fill method \n",
    "CO2Data_fill = CO2Data_fill.fillna(method=\"ffill\")"
   ]
  },
  {
   "cell_type": "code",
   "execution_count": 43,
   "metadata": {},
   "outputs": [
    {
     "name": "stdout",
     "output_type": "stream",
     "text": [
      "sample                     0\n",
      "date                       0\n",
      "estuary                    0\n",
      "area                       0\n",
      "station                    0\n",
      "layer_depth                0\n",
      "season                     0\n",
      "chlorophy_microg_l         0\n",
      "cond_microsiemens_cm       0\n",
      "depth_m                    0\n",
      "do_percent_sat             0\n",
      "do_mg_l                    0\n",
      "sal_psu                    0\n",
      "sp_cond_microsiemens_cm    0\n",
      "turbidity_fnu              0\n",
      "temp_c                     0\n",
      "latitude                   0\n",
      "longitude                  0\n",
      "dic_micromol_kg            0\n",
      "ta_micromol_kg             0\n",
      "dummy_data                 0\n",
      "dtype: int64\n"
     ]
    }
   ],
   "source": [
    "\n",
    "print(CO2Data_fill.isnull().sum())"
   ]
  },
  {
   "cell_type": "markdown",
   "metadata": {},
   "source": [
    "#### Interpolation for filling missing values "
   ]
  },
  {
   "cell_type": "code",
   "execution_count": 44,
   "metadata": {},
   "outputs": [
    {
     "name": "stdout",
     "output_type": "stream",
     "text": [
      "sample                     0\n",
      "date                       0\n",
      "estuary                    0\n",
      "area                       0\n",
      "station                    0\n",
      "layer_depth                0\n",
      "season                     0\n",
      "chlorophy_microg_l         0\n",
      "cond_microsiemens_cm       0\n",
      "depth_m                    0\n",
      "do_percent_sat             0\n",
      "do_mg_l                    0\n",
      "sal_psu                    0\n",
      "sp_cond_microsiemens_cm    0\n",
      "turbidity_fnu              0\n",
      "temp_c                     0\n",
      "latitude                   0\n",
      "longitude                  0\n",
      "dic_micromol_kg            0\n",
      "ta_micromol_kg             0\n",
      "dummy_data                 0\n",
      "dtype: int64\n"
     ]
    },
    {
     "name": "stderr",
     "output_type": "stream",
     "text": [
      "C:\\Users\\Omar\\AppData\\Local\\Temp\\ipykernel_51796\\2513058725.py:3: FutureWarning: DataFrame.interpolate with object dtype is deprecated and will raise in a future version. Call obj.infer_objects(copy=False) before interpolating instead.\n",
      "  CO2Data_fill_linear = CO2Data_fill_linear.interpolate(method='linear')\n"
     ]
    }
   ],
   "source": [
    "CO2Data_fill_linear = CO2Data_df.copy()\n",
    "\n",
    "CO2Data_fill_linear = CO2Data_fill_linear.interpolate(method='linear')\n",
    "\n",
    "print(CO2Data_fill_linear.isnull().sum())\n"
   ]
  },
  {
   "cell_type": "markdown",
   "metadata": {},
   "source": [
    "### Exercises:  \n",
    "    - Create a new column called \"TA_DIC_ratio\" that is the ratio of TA to DIC\n",
    "    - Calculate the mean and standard deviation of the \"TA_DIC_ratio\" for each season\n",
    "    - Calculate the mean and standard deviation of the \"TA_DIC_ratio\" for each season and area\n",
    "    - Save the results to an Excel file called \"TA_DIC_Season_Areas.xlsx\"\n"
   ]
  }
 ],
 "metadata": {
  "kernelspec": {
   "display_name": "base",
   "language": "python",
   "name": "python3"
  },
  "language_info": {
   "codemirror_mode": {
    "name": "ipython",
    "version": 3
   },
   "file_extension": ".py",
   "mimetype": "text/x-python",
   "name": "python",
   "nbconvert_exporter": "python",
   "pygments_lexer": "ipython3",
   "version": "3.13.5"
  }
 },
 "nbformat": 4,
 "nbformat_minor": 4
}
