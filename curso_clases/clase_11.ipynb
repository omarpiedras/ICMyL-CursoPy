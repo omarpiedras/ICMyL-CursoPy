{
 "cells": [
  {
   "cell_type": "markdown",
   "metadata": {},
   "source": [
    "# **Curso Python: Clase 11**\n",
    "## Bases de datos "
   ]
  },
  {
   "attachments": {},
   "cell_type": "markdown",
   "metadata": {},
   "source": [
    "#  Importing and explore environmental data"
   ]
  },
  {
   "cell_type": "code",
   "execution_count": 1,
   "metadata": {},
   "outputs": [],
   "source": [
    "def import_csv(file):\n",
    "    # Read the file into a DataFrame: df\n",
    "    import pandas as pd\n",
    "    return pd.read_csv(file)"
   ]
  },
  {
   "cell_type": "code",
   "execution_count": 2,
   "metadata": {},
   "outputs": [],
   "source": [
    "# Path to the file to be imported\n",
    "path = \"../folder_datos/Terminos_lagoon_TA_DIC_2023_RawData.csv\"\n",
    "\n",
    "# Import the file\n",
    "CO2Data = import_csv(path)"
   ]
  },
  {
   "attachments": {},
   "cell_type": "markdown",
   "metadata": {},
   "source": [
    "## Exploring  DataFrame\n"
   ]
  },
  {
   "cell_type": "code",
   "execution_count": 3,
   "metadata": {},
   "outputs": [
    {
     "name": "stdout",
     "output_type": "stream",
     "text": [
      "(106, 21)\n"
     ]
    }
   ],
   "source": [
    "# Print the number of rows and columns in the DataFrame\n",
    "print(CO2Data.shape)"
   ]
  },
  {
   "cell_type": "code",
   "execution_count": 4,
   "metadata": {},
   "outputs": [
    {
     "name": "stdout",
     "output_type": "stream",
     "text": [
      "   sample      date     estuary   area station layer_depth season  \\\n",
      "0  CDL01S  5/3/2020  Candelaria  River   CDL01     Surface    Dry   \n",
      "1  CDL01F  5/3/2020  Candelaria  River   CDL01      Bottom    Dry   \n",
      "2  CDL02S  5/3/2020  Candelaria  River   CDL02     Surface    Dry   \n",
      "3  CDL02F  5/3/2020  Candelaria  River   CDL02      Bottom    Dry   \n",
      "4  CDL03S  5/3/2020  Candelaria  River   CDL03     Surface    Dry   \n",
      "\n",
      "   chlorophy_microg_l  cond_microsiemens_cm  depth_m  ...  do_mg_l  sal_psu  \\\n",
      "0                0.36                7015.4    0.464  ...     7.12     3.56   \n",
      "1                4.19               29886.1    7.792  ...     4.90    16.97   \n",
      "2                0.92               16691.1    0.453  ...     6.99     8.94   \n",
      "3                2.23               24847.4    1.261  ...     6.52    13.87   \n",
      "4                0.58               46341.6    0.465  ...     6.24    28.06   \n",
      "\n",
      "   sp_cond_microsiemens_cm  turbidity_fnu  temp_c  latitude  longitude  \\\n",
      "0                   6547.7           1.47  28.740  18.55736  -91.25012   \n",
      "1                  27751.2          95.33  29.028  18.55722  -91.24990   \n",
      "2                  15429.1           5.50  29.283  18.61007  -91.24410   \n",
      "3                  23074.0          13.44  29.024  18.61005  -91.24403   \n",
      "4                  43670.8           3.60  28.202  18.63166  -91.29359   \n",
      "\n",
      "   dic_micromol_kg  ta_micromol_kg  dummy_data  \n",
      "0             3915            3863      3685.0  \n",
      "1             3698            3685         NaN  \n",
      "2             3724            3708      3708.0  \n",
      "3             3667            3992      3992.0  \n",
      "4             2928            3023      3023.0  \n",
      "\n",
      "[5 rows x 21 columns]\n"
     ]
    }
   ],
   "source": [
    "# Print the head of the DataFrame\n",
    "print(CO2Data.head())"
   ]
  },
  {
   "attachments": {},
   "cell_type": "markdown",
   "metadata": {},
   "source": [
    "- Print information about a DataFrame including the index dtype and columns, non-null values and memory usage"
   ]
  },
  {
   "cell_type": "code",
   "execution_count": 5,
   "metadata": {},
   "outputs": [
    {
     "name": "stdout",
     "output_type": "stream",
     "text": [
      "<class 'pandas.core.frame.DataFrame'>\n",
      "RangeIndex: 106 entries, 0 to 105\n",
      "Data columns (total 21 columns):\n",
      " #   Column                   Non-Null Count  Dtype  \n",
      "---  ------                   --------------  -----  \n",
      " 0   sample                   106 non-null    object \n",
      " 1   date                     106 non-null    object \n",
      " 2   estuary                  106 non-null    object \n",
      " 3   area                     106 non-null    object \n",
      " 4   station                  106 non-null    object \n",
      " 5   layer_depth              106 non-null    object \n",
      " 6   season                   106 non-null    object \n",
      " 7   chlorophy_microg_l       106 non-null    float64\n",
      " 8   cond_microsiemens_cm     106 non-null    float64\n",
      " 9   depth_m                  106 non-null    float64\n",
      " 10  do_percent_sat           106 non-null    float64\n",
      " 11  do_mg_l                  106 non-null    float64\n",
      " 12  sal_psu                  106 non-null    float64\n",
      " 13  sp_cond_microsiemens_cm  106 non-null    float64\n",
      " 14  turbidity_fnu            106 non-null    float64\n",
      " 15  temp_c                   106 non-null    float64\n",
      " 16  latitude                 106 non-null    float64\n",
      " 17  longitude                106 non-null    float64\n",
      " 18  dic_micromol_kg          106 non-null    int64  \n",
      " 19  ta_micromol_kg           106 non-null    int64  \n",
      " 20  dummy_data               99 non-null     float64\n",
      "dtypes: float64(12), int64(2), object(7)\n",
      "memory usage: 17.5+ KB\n",
      "None\n"
     ]
    }
   ],
   "source": [
    "# Print information about the DataFrame\n",
    "print(CO2Data.info())"
   ]
  },
  {
   "cell_type": "code",
   "execution_count": 6,
   "metadata": {},
   "outputs": [
    {
     "name": "stdout",
     "output_type": "stream",
     "text": [
      "       chlorophy_microg_l  cond_microsiemens_cm     depth_m  do_percent_sat  \\\n",
      "count          106.000000            106.000000  106.000000      106.000000   \n",
      "mean             6.545472          27895.183962    1.830160       89.515094   \n",
      "std             14.941262          20931.232513    2.038739       29.772291   \n",
      "min              0.360000             13.800000    0.105000        1.700000   \n",
      "25%              2.555000           1778.025000    0.428750       84.575000   \n",
      "50%              3.705000          33202.600000    0.638500       97.100000   \n",
      "75%              5.925000          47046.650000    2.883250      105.300000   \n",
      "max            150.900000          59988.600000    8.558000      174.100000   \n",
      "\n",
      "          do_mg_l     sal_psu  sp_cond_microsiemens_cm  turbidity_fnu  \\\n",
      "count  106.000000  106.000000               106.000000     106.000000   \n",
      "mean     6.474340   17.331981             27126.980189     100.429623   \n",
      "std      2.104254   13.578980             20527.530804     290.290113   \n",
      "min      0.120000    0.000000                13.700000       0.880000   \n",
      "25%      5.632500    0.857500              1706.875000       5.950000   \n",
      "50%      6.940000   19.760000             31803.250000      19.090000   \n",
      "75%      7.722500   30.297500             46668.975000      54.762500   \n",
      "max     11.660000   38.780000             58105.000000    2422.930000   \n",
      "\n",
      "           temp_c    latitude   longitude  dic_micromol_kg  ta_micromol_kg  \\\n",
      "count  106.000000  106.000000  106.000000       106.000000      106.000000   \n",
      "mean    26.758755   18.615912  -91.602783      2797.981132     2912.915094   \n",
      "std      0.917242    0.112832    0.240359       499.852416      472.694346   \n",
      "min     24.470000   18.424030  -91.902180      2152.000000     2357.000000   \n",
      "25%     26.062000   18.535825  -91.809810      2452.250000     2585.500000   \n",
      "50%     26.806000   18.610050  -91.786895      2646.500000     2823.000000   \n",
      "75%     27.153250   18.698798  -91.367565      2963.250000     3053.750000   \n",
      "max     29.283000   18.821780  -91.244000      4324.000000     4307.000000   \n",
      "\n",
      "        dummy_data  \n",
      "count    99.000000  \n",
      "mean   2902.888889  \n",
      "std     473.698989  \n",
      "min    2357.000000  \n",
      "25%    2561.500000  \n",
      "50%    2814.000000  \n",
      "75%    3029.000000  \n",
      "max    4307.000000  \n"
     ]
    }
   ],
   "source": [
    "# Print descriptive statistics\n",
    "print(CO2Data.describe())"
   ]
  },
  {
   "attachments": {},
   "cell_type": "markdown",
   "metadata": {},
   "source": [
    "-  Group the data by a categorical column, and calculate the mean and standard deviation of a numerical column"
   ]
  },
  {
   "attachments": {},
   "cell_type": "markdown",
   "metadata": {},
   "source": [
    "# Missing values in each column."
   ]
  },
  {
   "cell_type": "code",
   "execution_count": 7,
   "metadata": {},
   "outputs": [
    {
     "name": "stdout",
     "output_type": "stream",
     "text": [
      "sample                     0\n",
      "date                       0\n",
      "estuary                    0\n",
      "area                       0\n",
      "station                    0\n",
      "layer_depth                0\n",
      "season                     0\n",
      "chlorophy_microg_l         0\n",
      "cond_microsiemens_cm       0\n",
      "depth_m                    0\n",
      "do_percent_sat             0\n",
      "do_mg_l                    0\n",
      "sal_psu                    0\n",
      "sp_cond_microsiemens_cm    0\n",
      "turbidity_fnu              0\n",
      "temp_c                     0\n",
      "latitude                   0\n",
      "longitude                  0\n",
      "dic_micromol_kg            0\n",
      "ta_micromol_kg             0\n",
      "dummy_data                 7\n",
      "dtype: int64\n"
     ]
    }
   ],
   "source": [
    "# Use the Pandas isnull() function to identify the number of missing values in each column.\n",
    "print(CO2Data.isnull().sum())"
   ]
  },
  {
   "attachments": {},
   "cell_type": "markdown",
   "metadata": {},
   "source": [
    "### Method to use for filling holes in reindexed Series:\n",
    "\n",
    "- ffill: propagate last valid observation forward to next valid.\n",
    "\n",
    "- bfill: use next valid observation to fill gap."
   ]
  },
  {
   "cell_type": "code",
   "execution_count": 8,
   "metadata": {},
   "outputs": [
    {
     "name": "stderr",
     "output_type": "stream",
     "text": [
      "C:\\Users\\Omar\\AppData\\Local\\Temp\\ipykernel_44900\\1770306704.py:5: FutureWarning: DataFrame.fillna with 'method' is deprecated and will raise in a future version. Use obj.ffill() or obj.bfill() instead.\n",
      "  CO2Data_fill = CO2Data_fill.fillna(method=\"ffill\")\n"
     ]
    }
   ],
   "source": [
    "# Create new data frame \n",
    "CO2Data_fill = CO2Data.copy()\n",
    "\n",
    "# Use fill method \n",
    "CO2Data_fill = CO2Data_fill.fillna(method=\"ffill\")"
   ]
  },
  {
   "cell_type": "code",
   "execution_count": 9,
   "metadata": {},
   "outputs": [
    {
     "name": "stdout",
     "output_type": "stream",
     "text": [
      "sample                     0\n",
      "date                       0\n",
      "estuary                    0\n",
      "area                       0\n",
      "station                    0\n",
      "layer_depth                0\n",
      "season                     0\n",
      "chlorophy_microg_l         0\n",
      "cond_microsiemens_cm       0\n",
      "depth_m                    0\n",
      "do_percent_sat             0\n",
      "do_mg_l                    0\n",
      "sal_psu                    0\n",
      "sp_cond_microsiemens_cm    0\n",
      "turbidity_fnu              0\n",
      "temp_c                     0\n",
      "latitude                   0\n",
      "longitude                  0\n",
      "dic_micromol_kg            0\n",
      "ta_micromol_kg             0\n",
      "dummy_data                 0\n",
      "dtype: int64\n"
     ]
    }
   ],
   "source": [
    "\n",
    "print(CO2Data_fill.isnull().sum())"
   ]
  },
  {
   "cell_type": "markdown",
   "metadata": {},
   "source": [
    "#### Interpolation for filling missing values "
   ]
  },
  {
   "cell_type": "code",
   "execution_count": 10,
   "metadata": {},
   "outputs": [
    {
     "name": "stdout",
     "output_type": "stream",
     "text": [
      "sample                     0\n",
      "date                       0\n",
      "estuary                    0\n",
      "area                       0\n",
      "station                    0\n",
      "layer_depth                0\n",
      "season                     0\n",
      "chlorophy_microg_l         0\n",
      "cond_microsiemens_cm       0\n",
      "depth_m                    0\n",
      "do_percent_sat             0\n",
      "do_mg_l                    0\n",
      "sal_psu                    0\n",
      "sp_cond_microsiemens_cm    0\n",
      "turbidity_fnu              0\n",
      "temp_c                     0\n",
      "latitude                   0\n",
      "longitude                  0\n",
      "dic_micromol_kg            0\n",
      "ta_micromol_kg             0\n",
      "dummy_data                 0\n",
      "dtype: int64\n"
     ]
    },
    {
     "name": "stderr",
     "output_type": "stream",
     "text": [
      "C:\\Users\\Omar\\AppData\\Local\\Temp\\ipykernel_44900\\435034796.py:3: FutureWarning: DataFrame.interpolate with object dtype is deprecated and will raise in a future version. Call obj.infer_objects(copy=False) before interpolating instead.\n",
      "  CO2Data_fill_linear = CO2Data_fill_linear.interpolate(method='linear')\n"
     ]
    }
   ],
   "source": [
    "CO2Data_fill_linear = CO2Data.copy()\n",
    "\n",
    "CO2Data_fill_linear = CO2Data_fill_linear.interpolate(method='linear')\n",
    "\n",
    "print(CO2Data_fill_linear.isnull().sum())\n"
   ]
  },
  {
   "cell_type": "markdown",
   "metadata": {},
   "source": [
    "### Exercises:  \n",
    "    - Create a new column called \"TA_DIC_ratio\" that is the ratio of TA to DIC\n",
    "    - Calculate the mean and standard deviation of the \"TA_DIC_ratio\" for each season\n",
    "    - Calculate the mean and standard deviation of the \"TA_DIC_ratio\" for each season and area\n",
    "    - Save the results to an Excel file called \"TA_DIC_Season_Areas.xlsx\"\n"
   ]
  }
 ],
 "metadata": {
  "kernelspec": {
   "display_name": "base",
   "language": "python",
   "name": "python3"
  },
  "language_info": {
   "codemirror_mode": {
    "name": "ipython",
    "version": 3
   },
   "file_extension": ".py",
   "mimetype": "text/x-python",
   "name": "python",
   "nbconvert_exporter": "python",
   "pygments_lexer": "ipython3",
   "version": "3.13.5"
  }
 },
 "nbformat": 4,
 "nbformat_minor": 4
}
