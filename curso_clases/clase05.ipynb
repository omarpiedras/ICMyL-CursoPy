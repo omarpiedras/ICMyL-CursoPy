{
 "cells": [
  {
   "cell_type": "markdown",
   "id": "909fafdd",
   "metadata": {},
   "source": [
    "# Curso Python: Clase 05\n",
    "## Jupyther y Markdown"
   ]
  },
  {
   "cell_type": "markdown",
   "id": "fab505ec",
   "metadata": {},
   "source": [
    "# Markdown \n",
    "\n",
    "Markdown is a lightweight markup language that you can use to add formatting elements to plaintext text documents.\n",
    "\n",
    "## Headers\n",
    "\n",
    "You can create a header by using the `#` symbol. The number of `#` you use will determine the size of the header.\n"
   ]
  },
  {
   "cell_type": "markdown",
   "id": "d4f360f1",
   "metadata": {},
   "source": [
    "# Header 1\n",
    "## Header 2\n",
    "### Header 3\n",
    "\n",
    "*This text will be italic*\n",
    "**This text will be bold**"
   ]
  },
  {
   "cell_type": "markdown",
   "id": "f15598b7",
   "metadata": {},
   "source": [
    "*This text will be italic*\n",
    "**This text will be bold**"
   ]
  },
  {
   "cell_type": "code",
   "execution_count": null,
   "id": "434890e0",
   "metadata": {
    "vscode": {
     "languageId": "plaintext"
    }
   },
   "outputs": [],
   "source": []
  },
  {
   "cell_type": "markdown",
   "id": "d19cf2cd",
   "metadata": {},
   "source": [
    "* Item 1\n",
    "* Item 2\n",
    "\n",
    "1. Item 1\n",
    "2. Item 2"
   ]
  },
  {
   "cell_type": "markdown",
   "id": "197c2cd8",
   "metadata": {},
   "source": [
    "\n",
    "## Use Markdown to create a link to:\n",
    "\n",
    "1. [Google](https://www.google.com)\n",
    "2. [The **GitHub** homepage.](https://github.com/gilbertoCM/env_data_analysis_pytho)"
   ]
  },
  {
   "cell_type": "markdown",
   "id": "4b9cabd4",
   "metadata": {},
   "source": [
    "## Blockquotes\n",
    "\n",
    "To create a blockquote, add a > in front of a paragraph.\n",
    "\n",
    "> Dorothy followed her through many of the beautiful rooms in her castle.\n",
    "\n",
    "\n",
    "> Blockquotes with Multiple Paragraphs\n",
    ">\n",
    "> The Witch bade her clean the pots and kettles and sweep the floor and keep the fire fed with wood."
   ]
  },
  {
   "cell_type": "markdown",
   "id": "0a578a3b",
   "metadata": {},
   "source": [
    "## Reference-style Links"
   ]
  },
  {
   "cell_type": "markdown",
   "id": "6c23cbc4",
   "metadata": {},
   "source": [
    "[Estadística para investigadores][1]\n",
    "\n",
    "[Hobbit-hole][2]\n",
    "\n",
    "[Basic Syntax][3]\n",
    "\n",
    "[1]: https://youtube.com/playlist?list=PLdI70BSoHQSpt7LbzDiREW-ZDd6FggZUT&si=K7fqiIrcdXsQmV2z\n",
    "[2]: https://en.wikipedia.org/wiki/Hobbit#Lifestyle\n",
    "[3]: https://www.markdownguide.org/basic-syntax/#blockquotes-1\n"
   ]
  }
 ],
 "metadata": {
  "language_info": {
   "name": "python"
  }
 },
 "nbformat": 4,
 "nbformat_minor": 5
}
