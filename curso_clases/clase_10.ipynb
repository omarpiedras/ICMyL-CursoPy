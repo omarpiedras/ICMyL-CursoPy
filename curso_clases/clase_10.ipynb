{
 "cells": [
  {
   "cell_type": "markdown",
   "metadata": {},
   "source": [
    "# **Curso Python: Clase 10**\n",
    "## Bases de datos "
   ]
  },
  {
   "attachments": {},
   "cell_type": "markdown",
   "metadata": {},
   "source": [
    "#  Importing and explore environmental data"
   ]
  },
  {
   "cell_type": "code",
   "execution_count": 1,
   "metadata": {},
   "outputs": [],
   "source": [
    "def import_csv(file):\n",
    "    # Read the file into a DataFrame: df\n",
    "    import pandas as pd\n",
    "    return pd.read_csv(file)"
   ]
  },
  {
   "cell_type": "code",
   "execution_count": 2,
   "metadata": {},
   "outputs": [],
   "source": [
    "# Path to the file to be imported\n",
    "path = \"../folder_datos/Terminos_lagoon_TA_DIC_2023_RawData.csv\"\n",
    "\n",
    "# Import the file\n",
    "CO2Data = import_csv(path)"
   ]
  },
  {
   "attachments": {},
   "cell_type": "markdown",
   "metadata": {},
   "source": [
    "## Exploring  DataFrame\n"
   ]
  },
  {
   "cell_type": "code",
   "execution_count": 3,
   "metadata": {},
   "outputs": [
    {
     "name": "stdout",
     "output_type": "stream",
     "text": [
      "   sample      date     estuary   area station layer_depth season  \\\n",
      "0  CDL01S  5/3/2020  Candelaria  River   CDL01     Surface    Dry   \n",
      "1  CDL01F  5/3/2020  Candelaria  River   CDL01      Bottom    Dry   \n",
      "2  CDL02S  5/3/2020  Candelaria  River   CDL02     Surface    Dry   \n",
      "3  CDL02F  5/3/2020  Candelaria  River   CDL02      Bottom    Dry   \n",
      "4  CDL03S  5/3/2020  Candelaria  River   CDL03     Surface    Dry   \n",
      "\n",
      "   chlorophy_microg_l  cond_microsiemens_cm  depth_m  ...  do_mg_l  sal_psu  \\\n",
      "0                0.36                7015.4    0.464  ...     7.12     3.56   \n",
      "1                4.19               29886.1    7.792  ...     4.90    16.97   \n",
      "2                0.92               16691.1    0.453  ...     6.99     8.94   \n",
      "3                2.23               24847.4    1.261  ...     6.52    13.87   \n",
      "4                0.58               46341.6    0.465  ...     6.24    28.06   \n",
      "\n",
      "   sp_cond_microsiemens_cm  turbidity_fnu  temp_c  latitude  longitude  \\\n",
      "0                   6547.7           1.47  28.740  18.55736  -91.25012   \n",
      "1                  27751.2          95.33  29.028  18.55722  -91.24990   \n",
      "2                  15429.1           5.50  29.283  18.61007  -91.24410   \n",
      "3                  23074.0          13.44  29.024  18.61005  -91.24403   \n",
      "4                  43670.8           3.60  28.202  18.63166  -91.29359   \n",
      "\n",
      "   dic_micromol_kg  ta_micromol_kg  dummy_data  \n",
      "0             3915            3863      3685.0  \n",
      "1             3698            3685         NaN  \n",
      "2             3724            3708      3708.0  \n",
      "3             3667            3992      3992.0  \n",
      "4             2928            3023      3023.0  \n",
      "\n",
      "[5 rows x 21 columns]\n"
     ]
    }
   ],
   "source": [
    "# Print the head of the DataFrame\n",
    "print(CO2Data.head())"
   ]
  },
  {
   "attachments": {},
   "cell_type": "markdown",
   "metadata": {},
   "source": [
    "## Group the data by a categorical column, and calculate the mean and standard deviation of a numerical column"
   ]
  },
  {
   "cell_type": "code",
   "execution_count": 4,
   "metadata": {},
   "outputs": [],
   "source": [
    "# Definir las columnas a analizar\n",
    "variables = ['dic_micromol_kg', 'ta_micromol_kg', 'sal_psu']\n",
    "\n",
    "# Calcular la media y la desviación estándar agrupando por season y estuary\n",
    "result = CO2Data.groupby(['season', 'estuary'])[variables].agg(['mean', 'std']).reset_index()\n"
   ]
  },
  {
   "cell_type": "code",
   "execution_count": 5,
   "metadata": {},
   "outputs": [
    {
     "data": {
      "text/html": [
       "<div>\n",
       "<style scoped>\n",
       "    .dataframe tbody tr th:only-of-type {\n",
       "        vertical-align: middle;\n",
       "    }\n",
       "\n",
       "    .dataframe tbody tr th {\n",
       "        vertical-align: top;\n",
       "    }\n",
       "\n",
       "    .dataframe thead tr th {\n",
       "        text-align: left;\n",
       "    }\n",
       "</style>\n",
       "<table border=\"1\" class=\"dataframe\">\n",
       "  <thead>\n",
       "    <tr>\n",
       "      <th></th>\n",
       "      <th>season</th>\n",
       "      <th>estuary</th>\n",
       "      <th colspan=\"2\" halign=\"left\">dic_micromol_kg</th>\n",
       "      <th colspan=\"2\" halign=\"left\">ta_micromol_kg</th>\n",
       "      <th colspan=\"2\" halign=\"left\">sal_psu</th>\n",
       "    </tr>\n",
       "    <tr>\n",
       "      <th></th>\n",
       "      <th></th>\n",
       "      <th></th>\n",
       "      <th>mean</th>\n",
       "      <th>std</th>\n",
       "      <th>mean</th>\n",
       "      <th>std</th>\n",
       "      <th>mean</th>\n",
       "      <th>std</th>\n",
       "    </tr>\n",
       "  </thead>\n",
       "  <tbody>\n",
       "    <tr>\n",
       "      <th>0</th>\n",
       "      <td>Dry</td>\n",
       "      <td>Candelaria</td>\n",
       "      <td>2917.055556</td>\n",
       "      <td>630.585893</td>\n",
       "      <td>3076.777778</td>\n",
       "      <td>556.680114</td>\n",
       "      <td>23.633889</td>\n",
       "      <td>12.121592</td>\n",
       "    </tr>\n",
       "    <tr>\n",
       "      <th>1</th>\n",
       "      <td>Dry</td>\n",
       "      <td>Palizada</td>\n",
       "      <td>2968.194444</td>\n",
       "      <td>391.242257</td>\n",
       "      <td>3107.888889</td>\n",
       "      <td>323.177154</td>\n",
       "      <td>16.392500</td>\n",
       "      <td>13.830189</td>\n",
       "    </tr>\n",
       "    <tr>\n",
       "      <th>2</th>\n",
       "      <td>Rainy</td>\n",
       "      <td>Candelaria</td>\n",
       "      <td>2474.125000</td>\n",
       "      <td>306.407980</td>\n",
       "      <td>2537.062500</td>\n",
       "      <td>192.848635</td>\n",
       "      <td>15.165000</td>\n",
       "      <td>13.937384</td>\n",
       "    </tr>\n",
       "    <tr>\n",
       "      <th>3</th>\n",
       "      <td>Rainy</td>\n",
       "      <td>Palizada</td>\n",
       "      <td>2507.277778</td>\n",
       "      <td>216.751092</td>\n",
       "      <td>2529.333333</td>\n",
       "      <td>260.962923</td>\n",
       "      <td>8.533333</td>\n",
       "      <td>9.940109</td>\n",
       "    </tr>\n",
       "  </tbody>\n",
       "</table>\n",
       "</div>"
      ],
      "text/plain": [
       "  season     estuary dic_micromol_kg             ta_micromol_kg              \\\n",
       "                                mean         std           mean         std   \n",
       "0    Dry  Candelaria     2917.055556  630.585893    3076.777778  556.680114   \n",
       "1    Dry    Palizada     2968.194444  391.242257    3107.888889  323.177154   \n",
       "2  Rainy  Candelaria     2474.125000  306.407980    2537.062500  192.848635   \n",
       "3  Rainy    Palizada     2507.277778  216.751092    2529.333333  260.962923   \n",
       "\n",
       "     sal_psu             \n",
       "        mean        std  \n",
       "0  23.633889  12.121592  \n",
       "1  16.392500  13.830189  \n",
       "2  15.165000  13.937384  \n",
       "3   8.533333   9.940109  "
      ]
     },
     "execution_count": 5,
     "metadata": {},
     "output_type": "execute_result"
    }
   ],
   "source": [
    "result"
   ]
  },
  {
   "cell_type": "code",
   "execution_count": 6,
   "metadata": {},
   "outputs": [
    {
     "name": "stdout",
     "output_type": "stream",
     "text": [
      "  season_    estuary_  dic_micromol_kg_mean  dic_micromol_kg_std  \\\n",
      "0     Dry  Candelaria           2917.055556           630.585893   \n",
      "1     Dry    Palizada           2968.194444           391.242257   \n",
      "2   Rainy  Candelaria           2474.125000           306.407980   \n",
      "3   Rainy    Palizada           2507.277778           216.751092   \n",
      "\n",
      "   ta_micromol_kg_mean  ta_micromol_kg_std  sal_psu_mean  sal_psu_std  \n",
      "0          3076.777778          556.680114     23.633889    12.121592  \n",
      "1          3107.888889          323.177154     16.392500    13.830189  \n",
      "2          2537.062500          192.848635     15.165000    13.937384  \n",
      "3          2529.333333          260.962923      8.533333     9.940109  \n"
     ]
    }
   ],
   "source": [
    "\n",
    "# Renombrar las columnas para mayor claridad\n",
    "result.columns = ['_'.join(col).strip() if isinstance(col, tuple) else col for col in result.columns]\n",
    "\n",
    "# Mostrar el resultado\n",
    "print(result)\n"
   ]
  },
  {
   "cell_type": "code",
   "execution_count": 7,
   "metadata": {},
   "outputs": [],
   "source": [
    "import pandas as pd\n",
    "from tabulate import tabulate"
   ]
  },
  {
   "cell_type": "code",
   "execution_count": 8,
   "metadata": {},
   "outputs": [
    {
     "name": "stdout",
     "output_type": "stream",
     "text": [
      "+--------+------------+---------------------------+--------------------------+-------------------+\n",
      "| season |  estuary   | dic_micromol_kg_formatted | ta_micromol_kg_formatted | sal_psu_formatted |\n",
      "+--------+------------+---------------------------+--------------------------+-------------------+\n",
      "|  Dry   | Candelaria |     2,917.06 ± 630.59     |    3,076.78 ± 556.68     |   23.63 ± 12.12   |\n",
      "|  Dry   |  Palizada  |     2,968.19 ± 391.24     |    3,107.89 ± 323.18     |   16.39 ± 13.83   |\n",
      "| Rainy  | Candelaria |     2,474.12 ± 306.41     |    2,537.06 ± 192.85     |   15.16 ± 13.94   |\n",
      "| Rainy  |  Palizada  |     2,507.28 ± 216.75     |    2,529.33 ± 260.96     |    8.53 ± 9.94    |\n",
      "+--------+------------+---------------------------+--------------------------+-------------------+\n"
     ]
    }
   ],
   "source": [
    "\n",
    "import pandas as pd\n",
    "from tabulate import tabulate\n",
    "\n",
    "# Suponiendo que ya tienes tu DataFrame CO2Data cargado\n",
    "# CO2Data = pd.read_csv('tu_archivo.csv')  # Ejemplo si proviene de un CSV\n",
    "\n",
    "# Definir las columnas a analizar\n",
    "variables = ['dic_micromol_kg', 'ta_micromol_kg', 'sal_psu']\n",
    "\n",
    "# Calcular la media y la desviación estándar agrupando por season y estuary\n",
    "result = CO2Data.groupby(['season', 'estuary'])[variables].agg(['mean', 'std']).reset_index()\n",
    "\n",
    "# Asignar nombres de columnas adecuados\n",
    "result.columns = ['season', 'estuary'] + [f\"{var}_{stat}\" for var in variables for stat in ['mean', 'std']]\n",
    "\n",
    "# Formatear los valores para mostrar \"media ± desviación estándar\" sin notación científica y con dos cifras decimales\n",
    "for var in variables:\n",
    "    mean_col = f\"{var}_mean\"\n",
    "    std_col = f\"{var}_std\"\n",
    "    result[f\"{var}_formatted\"] = result.apply(lambda row: f\"{row[mean_col]:,.2f} ± {row[std_col]:,.2f}\", axis=1)\n",
    "\n",
    "# Seleccionar solo las columnas formateadas junto con los índices\n",
    "formatted_result = result[['season', 'estuary'] + [f\"{var}_formatted\" for var in variables]]\n",
    "\n",
    "# Mostrar la tabla con los resultados formateados usando tabulate\n",
    "table = tabulate(formatted_result, headers='keys', tablefmt='pretty', showindex=False)\n",
    "print(table)\n"
   ]
  },
  {
   "cell_type": "code",
   "execution_count": 9,
   "metadata": {},
   "outputs": [],
   "source": [
    "# Guardar la tabla en un archivo CSV\n",
    "formatted_result.to_csv(\"../folder_datos/resultados_agrupados.csv\", index=False)"
   ]
  }
 ],
 "metadata": {
  "kernelspec": {
   "display_name": "base",
   "language": "python",
   "name": "python3"
  },
  "language_info": {
   "codemirror_mode": {
    "name": "ipython",
    "version": 3
   },
   "file_extension": ".py",
   "mimetype": "text/x-python",
   "name": "python",
   "nbconvert_exporter": "python",
   "pygments_lexer": "ipython3",
   "version": "3.13.5"
  }
 },
 "nbformat": 4,
 "nbformat_minor": 4
}
