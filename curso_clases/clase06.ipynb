{
 "cells": [
  {
   "cell_type": "markdown",
   "id": "f603b5fa",
   "metadata": {},
   "source": [
    "# **Curso Python: Clase 06**\n",
    "## Introducción a las funciones"
   ]
  }
 ],
 "metadata": {
  "language_info": {
   "name": "python"
  }
 },
 "nbformat": 4,
 "nbformat_minor": 5
}
