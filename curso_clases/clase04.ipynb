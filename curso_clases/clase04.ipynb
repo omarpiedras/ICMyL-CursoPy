{
 "cells": [
  {
   "cell_type": "markdown",
   "id": "b34db943",
   "metadata": {},
   "source": [
    "# **Curso Python: Clase 04**\n",
    "## Mi primer programa"
   ]
  },
  {
   "cell_type": "code",
   "execution_count": 1,
   "id": "c5ac7158",
   "metadata": {},
   "outputs": [
    {
     "name": "stdout",
     "output_type": "stream",
     "text": [
      "Hola mundo\n"
     ]
    }
   ],
   "source": [
    "print(\"Hola mundo\")"
   ]
  },
  {
   "cell_type": "code",
   "execution_count": 2,
   "id": "7d4003fa",
   "metadata": {},
   "outputs": [
    {
     "name": "stdout",
     "output_type": "stream",
     "text": [
      "Hola mundo\n",
      "Hola mundo 2\n"
     ]
    }
   ],
   "source": [
    "print(\"Hola mundo\")\n",
    "print(\"Hola mundo 2\")"
   ]
  },
  {
   "cell_type": "code",
   "execution_count": 3,
   "id": "31741af6",
   "metadata": {},
   "outputs": [],
   "source": [
    "a = 1 \n",
    "b = 2"
   ]
  },
  {
   "cell_type": "code",
   "execution_count": 4,
   "id": "76acc8a5",
   "metadata": {},
   "outputs": [],
   "source": [
    "c = a + b"
   ]
  },
  {
   "cell_type": "markdown",
   "id": "d44079d4",
   "metadata": {},
   "source": [
    "Imprime c"
   ]
  },
  {
   "cell_type": "code",
   "execution_count": 5,
   "id": "ce5e3965",
   "metadata": {},
   "outputs": [
    {
     "name": "stdout",
     "output_type": "stream",
     "text": [
      "3\n"
     ]
    }
   ],
   "source": [
    "print(c)"
   ]
  },
  {
   "cell_type": "code",
   "execution_count": 6,
   "id": "10ebb9e6",
   "metadata": {},
   "outputs": [
    {
     "data": {
      "text/plain": [
       "10"
      ]
     },
     "execution_count": 6,
     "metadata": {},
     "output_type": "execute_result"
    }
   ],
   "source": [
    "3+7"
   ]
  },
  {
   "cell_type": "code",
   "execution_count": null,
   "id": "c35b3dd8",
   "metadata": {},
   "outputs": [],
   "source": []
  }
 ],
 "metadata": {
  "kernelspec": {
   "display_name": "base",
   "language": "python",
   "name": "python3"
  },
  "language_info": {
   "codemirror_mode": {
    "name": "ipython",
    "version": 3
   },
   "file_extension": ".py",
   "mimetype": "text/x-python",
   "name": "python",
   "nbconvert_exporter": "python",
   "pygments_lexer": "ipython3",
   "version": "3.13.5"
  }
 },
 "nbformat": 4,
 "nbformat_minor": 5
}
