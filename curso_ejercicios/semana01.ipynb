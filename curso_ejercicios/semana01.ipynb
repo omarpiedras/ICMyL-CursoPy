{
 "cells": [
  {
   "cell_type": "markdown",
   "id": "2df2f8e7",
   "metadata": {},
   "source": [
    "# **Curso Python: Ejercicios semana 01**\n"
   ]
  },
  {
   "cell_type": "markdown",
   "id": "3c9bf352",
   "metadata": {},
   "source": [
    "### **01_hello_world**\n",
    "#### Simple Arithmetic Operations"
   ]
  },
  {
   "cell_type": "markdown",
   "id": "e850c036",
   "metadata": {},
   "source": [
    ">**Parte I**"
   ]
  },
  {
   "cell_type": "code",
   "execution_count": 1,
   "id": "376e4991",
   "metadata": {},
   "outputs": [
    {
     "name": "stdout",
     "output_type": "stream",
     "text": [
      "Hola mundo\n",
      "Hello world\n"
     ]
    }
   ],
   "source": [
    "print(\"Hola mundo\")\n",
    "print(\"Hello world\")"
   ]
  },
  {
   "cell_type": "markdown",
   "id": "61ff9bba",
   "metadata": {},
   "source": [
    ">**Parte II**"
   ]
  },
  {
   "cell_type": "code",
   "execution_count": 19,
   "id": "3d1d601f",
   "metadata": {},
   "outputs": [
    {
     "name": "stdout",
     "output_type": "stream",
     "text": [
      "Simple Arithmetic Operations\n"
     ]
    }
   ],
   "source": [
    "print(\"Simple Arithmetic Operations\")"
   ]
  },
  {
   "cell_type": "code",
   "execution_count": 7,
   "id": "8bd6198b",
   "metadata": {},
   "outputs": [],
   "source": [
    "# Variables\n",
    "a = 1\n",
    "b = 2\n",
    "c = 3\n",
    "d = 5\n",
    "e =10"
   ]
  },
  {
   "cell_type": "code",
   "execution_count": 8,
   "id": "e924719a",
   "metadata": {},
   "outputs": [
    {
     "name": "stdout",
     "output_type": "stream",
     "text": [
      "3\n"
     ]
    }
   ],
   "source": [
    "#Addition: Add two numbers and print the result.\n",
    "print(a+b)"
   ]
  },
  {
   "cell_type": "code",
   "execution_count": 9,
   "id": "fbb4c7e1",
   "metadata": {},
   "outputs": [
    {
     "name": "stdout",
     "output_type": "stream",
     "text": [
      "-2\n"
     ]
    }
   ],
   "source": [
    "#Subtraction: Subtract one number from another and print the result.\n",
    "print(c-d)"
   ]
  },
  {
   "cell_type": "code",
   "execution_count": 10,
   "id": "24e81ff5",
   "metadata": {},
   "outputs": [
    {
     "name": "stdout",
     "output_type": "stream",
     "text": [
      "50\n"
     ]
    }
   ],
   "source": [
    "#Multiplication: Multiply two numbers and print the result.\n",
    "print(e*d)"
   ]
  },
  {
   "cell_type": "code",
   "execution_count": 11,
   "id": "856c5717",
   "metadata": {},
   "outputs": [
    {
     "name": "stdout",
     "output_type": "stream",
     "text": [
      "5.0\n"
     ]
    }
   ],
   "source": [
    "#Division: Divide one number by another and print the result.\n",
    "print(d/a)"
   ]
  },
  {
   "cell_type": "markdown",
   "id": "0b896f95",
   "metadata": {},
   "source": [
    "### **02_functions**\n",
    "#### Create composite functions that evaluate the absolute value of a number"
   ]
  },
  {
   "cell_type": "code",
   "execution_count": 39,
   "id": "e81f680a",
   "metadata": {},
   "outputs": [
    {
     "name": "stdout",
     "output_type": "stream",
     "text": [
      "24\n",
      "24\n"
     ]
    }
   ],
   "source": [
    "# Versión 1\n",
    "def es_negativo(x):\n",
    "    return x < 0\n",
    "def hacer_positivo(y):\n",
    "    return -y\n",
    "def valor_absoluto_compuesto(x):\n",
    "    if es_negativo(x):\n",
    "        return hacer_positivo(x)\n",
    "    else:\n",
    "        return x\n",
    "print(valor_absoluto_compuesto(-24))\n",
    "print(valor_absoluto_compuesto(24))"
   ]
  },
  {
   "cell_type": "code",
   "execution_count": 29,
   "id": "b0ba5078",
   "metadata": {},
   "outputs": [
    {
     "name": "stdout",
     "output_type": "stream",
     "text": [
      "5\n",
      "3\n",
      "9\n"
     ]
    }
   ],
   "source": [
    "# Versión 2\n",
    "def valor_absoluto(x):\n",
    "    if x >= 0:\n",
    "        return x\n",
    "    else:\n",
    "        return -x\n",
    "print(valor_absoluto(5))    # 5\n",
    "print(valor_absoluto(-3))   # 3\n",
    "print(valor_absoluto(-9))   # 9"
   ]
  },
  {
   "cell_type": "code",
   "execution_count": 30,
   "id": "73c9c9e5",
   "metadata": {},
   "outputs": [
    {
     "name": "stdout",
     "output_type": "stream",
     "text": [
      "12\n",
      "24\n"
     ]
    }
   ],
   "source": [
    "# Versión 3\n",
    "import math\n",
    "def valor_absoluto(x):\n",
    "    cuadrado = x ** 2\n",
    "    raiz = math.sqrt(cuadrado)\n",
    "    if raiz.is_integer():\n",
    "        return int(raiz)\n",
    "    else:\n",
    "        return raiz\n",
    "print(valor_absoluto(12))    # 12\n",
    "print(valor_absoluto(-24))   #-24"
   ]
  },
  {
   "cell_type": "code",
   "execution_count": 14,
   "id": "194f3a42",
   "metadata": {},
   "outputs": [
    {
     "name": "stdout",
     "output_type": "stream",
     "text": [
      "Hello from a function\n"
     ]
    }
   ],
   "source": [
    "def my_function():\n",
    "  print(\"Hello from a function\")\n",
    "my_function()"
   ]
  },
  {
   "cell_type": "code",
   "execution_count": 15,
   "id": "4016eedc",
   "metadata": {},
   "outputs": [
    {
     "name": "stdout",
     "output_type": "stream",
     "text": [
      "Emil Refsnes\n",
      "Tobias Refsnes\n",
      "Linus Refsnes\n"
     ]
    }
   ],
   "source": [
    "def my_function(fname):\n",
    "  print(fname + \" Refsnes\")\n",
    "\n",
    "my_function(\"Emil\")\n",
    "my_function(\"Tobias\")\n",
    "my_function(\"Linus\")"
   ]
  },
  {
   "cell_type": "code",
   "execution_count": 16,
   "id": "88d6c811",
   "metadata": {},
   "outputs": [
    {
     "name": "stdout",
     "output_type": "stream",
     "text": [
      "Emil Refsnes\n"
     ]
    }
   ],
   "source": [
    "def my_function(fname, lname):\n",
    "  print(fname + \" \" + lname)\n",
    "\n",
    "my_function(\"Emil\", \"Refsnes\")"
   ]
  },
  {
   "cell_type": "code",
   "execution_count": 17,
   "id": "a3c67cfe",
   "metadata": {},
   "outputs": [
    {
     "name": "stdout",
     "output_type": "stream",
     "text": [
      "The youngest child is Linus\n"
     ]
    }
   ],
   "source": [
    "def my_function(child3, child2, child1):\n",
    "  print(\"The youngest child is \" + child3)\n",
    "\n",
    "my_function(child1 = \"Emil\", child2 = \"Tobias\", child3 = \"Linus\")"
   ]
  },
  {
   "cell_type": "code",
   "execution_count": 18,
   "id": "78007c59",
   "metadata": {},
   "outputs": [
    {
     "name": "stdout",
     "output_type": "stream",
     "text": [
      "Recursion Example Results:\n",
      "1\n",
      "3\n",
      "6\n",
      "10\n",
      "15\n",
      "21\n"
     ]
    },
    {
     "data": {
      "text/plain": [
       "21"
      ]
     },
     "execution_count": 18,
     "metadata": {},
     "output_type": "execute_result"
    }
   ],
   "source": [
    "def tri_recursion(k):\n",
    "  if(k > 0):\n",
    "    result = k + tri_recursion(k - 1)\n",
    "    print(result)\n",
    "  else:\n",
    "    result = 0\n",
    "  return result\n",
    "\n",
    "print(\"Recursion Example Results:\")\n",
    "tri_recursion(6)"
   ]
  }
 ],
 "metadata": {
  "kernelspec": {
   "display_name": "base",
   "language": "python",
   "name": "python3"
  },
  "language_info": {
   "codemirror_mode": {
    "name": "ipython",
    "version": 3
   },
   "file_extension": ".py",
   "mimetype": "text/x-python",
   "name": "python",
   "nbconvert_exporter": "python",
   "pygments_lexer": "ipython3",
   "version": "3.13.5"
  }
 },
 "nbformat": 4,
 "nbformat_minor": 5
}
