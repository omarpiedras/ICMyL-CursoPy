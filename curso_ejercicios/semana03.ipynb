{
 "cells": [
  {
   "cell_type": "markdown",
   "id": "68e58f7e",
   "metadata": {},
   "source": [
    "# **Curso Python: Ejercicios semana 03**"
   ]
  },
  {
   "cell_type": "markdown",
   "id": "c2f4ab12",
   "metadata": {},
   "source": [
    "### **12_Linear_regression**"
   ]
  },
  {
   "cell_type": "markdown",
   "id": "5834aebd",
   "metadata": {},
   "source": [
    ">**Perform linear regressions of salinity vs temperature and dec vs salinity**"
   ]
  },
  {
   "cell_type": "code",
   "execution_count": 12,
   "id": "31addbcf",
   "metadata": {},
   "outputs": [
    {
     "name": "stdout",
     "output_type": "stream",
     "text": [
      "<class 'pandas.core.frame.DataFrame'>\n",
      "RangeIndex: 106 entries, 0 to 105\n",
      "Data columns (total 21 columns):\n",
      " #   Column                   Non-Null Count  Dtype  \n",
      "---  ------                   --------------  -----  \n",
      " 0   sample                   106 non-null    object \n",
      " 1   date                     106 non-null    object \n",
      " 2   estuary                  106 non-null    object \n",
      " 3   area                     106 non-null    object \n",
      " 4   station                  106 non-null    object \n",
      " 5   layer_depth              106 non-null    object \n",
      " 6   season                   106 non-null    object \n",
      " 7   chlorophy_microg_l       106 non-null    float64\n",
      " 8   cond_microsiemens_cm     106 non-null    float64\n",
      " 9   depth_m                  106 non-null    float64\n",
      " 10  do_percent_sat           106 non-null    float64\n",
      " 11  do_mg_l                  106 non-null    float64\n",
      " 12  sal_psu                  106 non-null    float64\n",
      " 13  sp_cond_microsiemens_cm  106 non-null    float64\n",
      " 14  turbidity_fnu            106 non-null    float64\n",
      " 15  temp_c                   106 non-null    float64\n",
      " 16  latitude                 106 non-null    float64\n",
      " 17  longitude                106 non-null    float64\n",
      " 18  dic_micromol_kg          106 non-null    int64  \n",
      " 19  ta_micromol_kg           106 non-null    int64  \n",
      " 20  dummy_data               99 non-null     float64\n",
      "dtypes: float64(12), int64(2), object(7)\n",
      "memory usage: 17.5+ KB\n"
     ]
    }
   ],
   "source": [
    "import os\n",
    "import pandas as pd\n",
    "import matplotlib.pyplot as plt\n",
    "from scipy import stats\n",
    "import statsmodels.api as sm\n",
    "import numpy as np\n",
    "linear_r = pd.read_csv(\"../folder_datos/Terminos_lagoon_TA_DIC_2023_RawData.csv\")\n",
    "linear_r.info()"
   ]
  },
  {
   "cell_type": "markdown",
   "id": "a7fb61bb",
   "metadata": {},
   "source": [
    "- **Salinidad vs Temperatura**"
   ]
  },
  {
   "cell_type": "code",
   "execution_count": 19,
   "id": "191dd95c",
   "metadata": {},
   "outputs": [
    {
     "data": {
      "image/png": "[encoded data removed]",
      "text/plain": [
       "<Figure size 600x400 with 1 Axes>"
      ]
     },
     "metadata": {},
     "output_type": "display_data"
    },
    {
     "name": "stdout",
     "output_type": "stream",
     "text": [
      "Slope: -0.028458717486946162\n"
     ]
    }
   ],
   "source": [
    "# REGRESIÓN LINEAL SIMPLE\n",
    "x1 = linear_r['sal_psu']\n",
    "y1 = linear_r['temp_c']\n",
    "plt.scatter(x1, y1, label='original data')\n",
    "plt.xlabel('T [°C]', fontsize = 12, )\n",
    "plt.ylabel('Sal [psu]', fontsize = 12)\n",
    "plt.title(\"Salinity vs Temperature\", fontsize=15, fontweight='bold')\n",
    "# Calculate the linear regression line\n",
    "slope, intercept, r_value, p_value, std_err = stats.linregress(x1, y1)\n",
    "# Plot linear regression \n",
    "plt.plot(x1, intercept + slope*x1, 'r', label='fitted line')\n",
    "# set the figure size\n",
    "plt.gcf().set_size_inches(6, 4)\n",
    "# save the plot as a PDF file paper format \n",
    "folder_resultados = 'folder_resultados'\n",
    "os.makedirs(folder_resultados, exist_ok=True)\n",
    "plt.savefig(os.path.join(folder_resultados, 'Sal_T_regrlin.pdf'), dpi=300, bbox_inches='tight')\n",
    "plt.show()\n",
    "print('Slope:', slope)"
   ]
  },
  {
   "cell_type": "code",
   "execution_count": 20,
   "id": "cf88f816",
   "metadata": {},
   "outputs": [
    {
     "name": "stdout",
     "output_type": "stream",
     "text": [
      "r-squared: 0.17749929096684752\n",
      "p_value: 6.879907520531154e-06\n",
      "slope: -0.028458717486946162\n",
      "intercept: 27.25200067150795\n"
     ]
    }
   ],
   "source": [
    "print(\"r-squared:\", r_value**2)\n",
    "print(\"p_value:\", p_value)\n",
    "print(\"slope:\", slope)\n",
    "print(\"intercept:\", intercept)"
   ]
  },
  {
   "cell_type": "code",
   "execution_count": 22,
   "id": "6bde627a",
   "metadata": {},
   "outputs": [
    {
     "name": "stdout",
     "output_type": "stream",
     "text": [
      "                 Results: Ordinary least squares\n",
      "=================================================================\n",
      "Model:              OLS              Adj. R-squared:     0.170   \n",
      "Dependent Variable: temp_c           AIC:                264.7839\n",
      "Date:               2025-08-26 15:16 BIC:                270.1108\n",
      "No. Observations:   106              Log-Likelihood:     -130.39 \n",
      "Df Model:           1                F-statistic:        22.44   \n",
      "Df Residuals:       104              Prob (F-statistic): 6.88e-06\n",
      "R-squared:          0.177            Scale:              0.69865 \n",
      "------------------------------------------------------------------\n",
      "              Coef.   Std.Err.     t      P>|t|    [0.025   0.975]\n",
      "------------------------------------------------------------------\n",
      "const        27.2520    0.1320  206.4122  0.0000  26.9902  27.5138\n",
      "sal_psu      -0.0285    0.0060   -4.7375  0.0000  -0.0404  -0.0165\n",
      "-----------------------------------------------------------------\n",
      "Omnibus:              10.808       Durbin-Watson:          0.642 \n",
      "Prob(Omnibus):        0.004        Jarque-Bera (JB):       11.170\n",
      "Skew:                 0.681        Prob(JB):               0.004 \n",
      "Kurtosis:             3.822        Condition No.:          36    \n",
      "=================================================================\n",
      "Notes:\n",
      "[1] Standard Errors assume that the covariance matrix of the\n",
      "errors is correctly specified.\n"
     ]
    }
   ],
   "source": [
    "# REGRESIÓN OLS\n",
    "x1 = linear_r['sal_psu']\n",
    "y2 = linear_r['temp_c']\n",
    "x1 = sm.add_constant(x1)\n",
    "# Fit the Ordinary2 Least Squares (OLS) linear regression model\n",
    "model = sm.OLS(y2, x1).fit()\n",
    "# Display2 the model summary2\n",
    "print(model.summary2())"
   ]
  },
  {
   "cell_type": "code",
   "execution_count": 23,
   "id": "6c1fda9d",
   "metadata": {},
   "outputs": [
    {
     "name": "stdout",
     "output_type": "stream",
     "text": [
      "\n",
      "=== MODEL INTERPRETATION ===\n",
      "\n",
      "R² = 0.177\n",
      "❌ Weak model fit: Explains little variance. Review your model.\n",
      "\n",
      "Coefficients:\n",
      "- const: Coef = 27.2520, p = 0.0000 → ✔️ Significant (p < 0.05)\n",
      "- sal_psu: Coef = -0.0285, p = 0.0000 → ✔️ Significant (p < 0.05)\n",
      "\n",
      "Slope (sal_psu): -0.0285, p = 0.0000 → ✔️ Significant\n",
      "\n",
      "Standard Error of the model: 0.8359\n"
     ]
    }
   ],
   "source": [
    "print(\"\\n=== MODEL INTERPRETATION ===\\n\")\n",
    "# R-squared and fit quality\n",
    "r2 = model.rsquared\n",
    "fit_quality = (\n",
    "    \"✔️ Good model fit: Explains most of the variance.\" if r2 >= 0.7 else\n",
    "    \"⚠️ Moderate model fit: Explains part of the variance.\" if r2 >= 0.4 else\n",
    "    \"❌ Weak model fit: Explains little variance. Review your model.\")\n",
    "print(f\"R² = {r2:.3f}\\n{fit_quality}\")\n",
    "# Coefficients and p-values\n",
    "results = model.summary2().tables[1]\n",
    "slope_var = results.index.drop('const')[0]  # Assuming one predictor\n",
    "print(\"\\nCoefficients:\")\n",
    "for var, row in results.iterrows():\n",
    "    coef, pval = row['Coef.'], row['P>|t|']\n",
    "    significance = \"✔️ Significant (p < 0.05)\" if pval < 0.05 else \"⚠️ Not significant (p ≥ 0.05)\"\n",
    "    print(f\"- {var}: Coef = {coef:.4f}, p = {pval:.4f} → {significance}\")\n",
    "# Slope interpretation\n",
    "slope_coef, slope_pval = results.loc[slope_var, ['Coef.', 'P>|t|']]\n",
    "print(f\"\\nSlope ({slope_var}): {slope_coef:.4f}, p = {slope_pval:.4f} → \"\n",
    "      f\"{'✔️ Significant' if slope_pval < 0.05 else '⚠️ Not significant'}\")\n",
    "# Standard Error\n",
    "print(f\"\\nStandard Error of the model: {np.sqrt(model.scale):.4f}\")"
   ]
  },
  {
   "cell_type": "markdown",
   "id": "9047d0ba",
   "metadata": {},
   "source": [
    "- **DIC vs Salinidad**"
   ]
  },
  {
   "cell_type": "code",
   "execution_count": 24,
   "id": "e491b4ca",
   "metadata": {},
   "outputs": [
    {
     "data": {
      "image/png": "[encoded data removed]",
      "text/plain": [
       "<Figure size 600x400 with 1 Axes>"
      ]
     },
     "metadata": {},
     "output_type": "display_data"
    },
    {
     "name": "stdout",
     "output_type": "stream",
     "text": [
      "Slope: -0.015537057058518267\n"
     ]
    }
   ],
   "source": [
    "# REGRESIÓN LINEAL SIMPLE\n",
    "x2 = linear_r['dic_micromol_kg']\n",
    "y2 = linear_r['sal_psu']\n",
    "plt.scatter(x2, y2, label='original data')\n",
    "plt.xlabel('DIC ($\\mu mol  \\; kg^{-1}$)', fontsize = 12, )\n",
    "plt.ylabel('Sal [psu]', fontsize = 12)\n",
    "plt.title(\"DIC vs Salinity\", fontsize=15, fontweight='bold')\n",
    "# Calculate the linear regression line\n",
    "slope, intercept, r_value, p_value, std_err = stats.linregress(x2, y2)\n",
    "# Plot linear regression \n",
    "plt.plot(x2, intercept + slope*x2, 'r', label='fitted line')\n",
    "# set the figure size\n",
    "plt.gcf().set_size_inches(6, 4)\n",
    "# save the plot as a PDF file paper format \n",
    "folder_resultados = 'folder_resultados'\n",
    "os.makedirs(folder_resultados, exist_ok=True)\n",
    "plt.savefig(os.path.join(folder_resultados, 'DIC_Sal_regrlin.pdf'), dpi=300, bbox_inches='tight')\n",
    "plt.show()\n",
    "print('Slope:', slope)"
   ]
  },
  {
   "cell_type": "code",
   "execution_count": 25,
   "id": "fb38cc1c",
   "metadata": {},
   "outputs": [
    {
     "name": "stdout",
     "output_type": "stream",
     "text": [
      "r-squared: 0.32710473310227767\n",
      "p_value: 1.51441040237653e-10\n",
      "slope: -0.015537057058518267\n",
      "intercept: 60.80437362978961\n"
     ]
    }
   ],
   "source": [
    "print(\"r-squared:\", r_value**2)\n",
    "print(\"p_value:\", p_value)\n",
    "print(\"slope:\", slope)\n",
    "print(\"intercept:\", intercept)"
   ]
  },
  {
   "cell_type": "code",
   "execution_count": 29,
   "id": "1e285ebe",
   "metadata": {},
   "outputs": [
    {
     "name": "stdout",
     "output_type": "stream",
     "text": [
      "                 Results: Ordinary least squares\n",
      "=================================================================\n",
      "Model:              OLS              Adj. R-squared:     0.321   \n",
      "Dependent Variable: sal_psu          AIC:                814.8235\n",
      "Date:               2025-08-26 15:21 BIC:                820.1504\n",
      "No. Observations:   106              Log-Likelihood:     -405.41 \n",
      "Df Model:           1                F-statistic:        50.56   \n",
      "Df Residuals:       104              Prob (F-statistic): 1.51e-10\n",
      "R-squared:          0.327            Scale:              125.27  \n",
      "-----------------------------------------------------------------\n",
      "                   Coef.  Std.Err.    t    P>|t|   [0.025  0.975]\n",
      "-----------------------------------------------------------------\n",
      "const             60.8044   6.2099  9.7915 0.0000 48.4899 73.1189\n",
      "dic_micromol_kg   -0.0155   0.0022 -7.1103 0.0000 -0.0199 -0.0112\n",
      "-----------------------------------------------------------------\n",
      "Omnibus:               60.706       Durbin-Watson:          0.538\n",
      "Prob(Omnibus):         0.000        Jarque-Bera (JB):       8.897\n",
      "Skew:                  -0.290       Prob(JB):               0.012\n",
      "Kurtosis:              1.704        Condition No.:          16234\n",
      "=================================================================\n",
      "Notes:\n",
      "[1] Standard Errors assume that the covariance matrix of the\n",
      "errors is correctly specified.\n",
      "[2] The condition number is large, 1.62e+04. This might indicate\n",
      "that there are strong multicollinearity or other numerical\n",
      "problems.\n"
     ]
    }
   ],
   "source": [
    "# REGRESIÓN OLS\n",
    "x2 = linear_r['dic_micromol_kg']\n",
    "y2 = linear_r['sal_psu']\n",
    "x2 = sm.add_constant(x2)\n",
    "#Fit the Ordinary2 Ly2st Squares (OLS) linear regression model\n",
    "model = sm.OLS(y2, x2).fit()\n",
    "# Display2 the modey2summary2\n",
    "print(model.summary2())"
   ]
  },
  {
   "cell_type": "code",
   "execution_count": 30,
   "id": "95e76b88",
   "metadata": {},
   "outputs": [
    {
     "name": "stdout",
     "output_type": "stream",
     "text": [
      "\n",
      "=== MODEL INTERPRETATION ===\n",
      "\n",
      "R² = 0.327\n",
      "❌ Weak model fit: Explains little variance. Review your model.\n",
      "\n",
      "Coefficients:\n",
      "- const: Coef = 60.8044, p = 0.0000 → ✔️ Significant (p < 0.05)\n",
      "- dic_micromol_kg: Coef = -0.0155, p = 0.0000 → ✔️ Significant (p < 0.05)\n",
      "\n",
      "Slope (dic_micromol_kg): -0.0155, p = 0.0000 → ✔️ Significant\n",
      "\n",
      "Standard Error of the model: 11.1923\n"
     ]
    }
   ],
   "source": [
    "print(\"\\n=== MODEL INTERPRETATION ===\\n\")\n",
    "# R-squared and fit quality\n",
    "r2 = model.rsquared\n",
    "fit_quality = (\n",
    "    \"✔️ Good model fit: Explains most of the variance.\" if r2 >= 0.7 else\n",
    "    \"⚠️ Moderate model fit: Explains part of the variance.\" if r2 >= 0.4 else\n",
    "    \"❌ Weak model fit: Explains little variance. Review your model.\")\n",
    "print(f\"R² = {r2:.3f}\\n{fit_quality}\")\n",
    "# Coefficients and p-values\n",
    "results = model.summary2().tables[1]\n",
    "slope_var = results.index.drop('const')[0]  # Assuming one predictor\n",
    "print(\"\\nCoefficients:\")\n",
    "for var, row in results.iterrows():\n",
    "    coef, pval = row['Coef.'], row['P>|t|']\n",
    "    significance = \"✔️ Significant (p < 0.05)\" if pval < 0.05 else \"⚠️ Not significant (p ≥ 0.05)\"\n",
    "    print(f\"- {var}: Coef = {coef:.4f}, p = {pval:.4f} → {significance}\")\n",
    "# Slope interpretation\n",
    "slope_coef, slope_pval = results.loc[slope_var, ['Coef.', 'P>|t|']]\n",
    "print(f\"\\nSlope ({slope_var}): {slope_coef:.4f}, p = {slope_pval:.4f} → \"\n",
    "      f\"{'✔️ Significant' if slope_pval < 0.05 else '⚠️ Not significant'}\")\n",
    "# Standard Error\n",
    "print(f\"\\nStandard Error of the model: {np.sqrt(model.scale):.4f}\")"
   ]
  }
 ],
 "metadata": {
  "kernelspec": {
   "display_name": "base",
   "language": "python",
   "name": "python3"
  },
  "language_info": {
   "codemirror_mode": {
    "name": "ipython",
    "version": 3
   },
   "file_extension": ".py",
   "mimetype": "text/x-python",
   "name": "python",
   "nbconvert_exporter": "python",
   "pygments_lexer": "ipython3",
   "version": "3.13.5"
  }
 },
 "nbformat": 4,
 "nbformat_minor": 5
}
